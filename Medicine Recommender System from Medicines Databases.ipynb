{
 "cells": [
  {
   "cell_type": "markdown",
   "id": "3af22a83",
   "metadata": {},
   "source": [
    "# Importing the Neccessary Libraries for the project"
   ]
  },
  {
   "cell_type": "code",
   "execution_count": 108,
   "id": "60a6e907",
   "metadata": {},
   "outputs": [],
   "source": [
    "import pandas as pd\n",
    "import numpy as np\n",
    "import matplotlib.pyplot as plt\n",
    "import seaborn as sns\n",
    "%matplotlib inline\n"
   ]
  },
  {
   "cell_type": "markdown",
   "id": "9f50c3cc",
   "metadata": {},
   "source": [
    "# Uploading and Dataset for EDA"
   ]
  },
  {
   "cell_type": "code",
   "execution_count": 11,
   "id": "25dce526",
   "metadata": {},
   "outputs": [],
   "source": [
    "Drugs = pd.read_csv('Medicine_Details.csv')"
   ]
  },
  {
   "cell_type": "code",
   "execution_count": 12,
   "id": "d3cdd630",
   "metadata": {
    "scrolled": true
   },
   "outputs": [
    {
     "data": {
      "text/html": [
       "<div>\n",
       "<style scoped>\n",
       "    .dataframe tbody tr th:only-of-type {\n",
       "        vertical-align: middle;\n",
       "    }\n",
       "\n",
       "    .dataframe tbody tr th {\n",
       "        vertical-align: top;\n",
       "    }\n",
       "\n",
       "    .dataframe thead th {\n",
       "        text-align: right;\n",
       "    }\n",
       "</style>\n",
       "<table border=\"1\" class=\"dataframe\">\n",
       "  <thead>\n",
       "    <tr style=\"text-align: right;\">\n",
       "      <th></th>\n",
       "      <th>Medicine Name</th>\n",
       "      <th>Composition</th>\n",
       "      <th>Uses</th>\n",
       "      <th>Side_effects</th>\n",
       "      <th>Image URL</th>\n",
       "      <th>Manufacturer</th>\n",
       "      <th>Excellent Review %</th>\n",
       "      <th>Average Review %</th>\n",
       "      <th>Poor Review %</th>\n",
       "    </tr>\n",
       "  </thead>\n",
       "  <tbody>\n",
       "    <tr>\n",
       "      <th>0</th>\n",
       "      <td>Avastin 400mg Injection</td>\n",
       "      <td>Bevacizumab (400mg)</td>\n",
       "      <td>Cancer of colon and rectum Non-small cell lun...</td>\n",
       "      <td>Rectal bleeding Taste change Headache Noseblee...</td>\n",
       "      <td>https://onemg.gumlet.io/l_watermark_346,w_480,...</td>\n",
       "      <td>Roche Products India Pvt Ltd</td>\n",
       "      <td>22</td>\n",
       "      <td>56</td>\n",
       "      <td>22</td>\n",
       "    </tr>\n",
       "    <tr>\n",
       "      <th>1</th>\n",
       "      <td>Augmentin 625 Duo Tablet</td>\n",
       "      <td>Amoxycillin  (500mg) +  Clavulanic Acid (125mg)</td>\n",
       "      <td>Treatment of Bacterial infections</td>\n",
       "      <td>Vomiting Nausea Diarrhea Mucocutaneous candidi...</td>\n",
       "      <td>https://onemg.gumlet.io/l_watermark_346,w_480,...</td>\n",
       "      <td>Glaxo SmithKline Pharmaceuticals Ltd</td>\n",
       "      <td>47</td>\n",
       "      <td>35</td>\n",
       "      <td>18</td>\n",
       "    </tr>\n",
       "    <tr>\n",
       "      <th>2</th>\n",
       "      <td>Azithral 500 Tablet</td>\n",
       "      <td>Azithromycin (500mg)</td>\n",
       "      <td>Treatment of Bacterial infections</td>\n",
       "      <td>Nausea Abdominal pain Diarrhea</td>\n",
       "      <td>https://onemg.gumlet.io/l_watermark_346,w_480,...</td>\n",
       "      <td>Alembic Pharmaceuticals Ltd</td>\n",
       "      <td>39</td>\n",
       "      <td>40</td>\n",
       "      <td>21</td>\n",
       "    </tr>\n",
       "    <tr>\n",
       "      <th>3</th>\n",
       "      <td>Ascoril LS Syrup</td>\n",
       "      <td>Ambroxol (30mg/5ml) + Levosalbutamol (1mg/5ml)...</td>\n",
       "      <td>Treatment of Cough with mucus</td>\n",
       "      <td>Nausea Vomiting Diarrhea Upset stomach Stomach...</td>\n",
       "      <td>https://onemg.gumlet.io/l_watermark_346,w_480,...</td>\n",
       "      <td>Glenmark Pharmaceuticals Ltd</td>\n",
       "      <td>24</td>\n",
       "      <td>41</td>\n",
       "      <td>35</td>\n",
       "    </tr>\n",
       "    <tr>\n",
       "      <th>4</th>\n",
       "      <td>Aciloc 150 Tablet</td>\n",
       "      <td>Ranitidine (150mg)</td>\n",
       "      <td>Treatment of Gastroesophageal reflux disease (...</td>\n",
       "      <td>Headache Diarrhea Gastrointestinal disturbance</td>\n",
       "      <td>https://onemg.gumlet.io/l_watermark_346,w_480,...</td>\n",
       "      <td>Cadila Pharmaceuticals Ltd</td>\n",
       "      <td>34</td>\n",
       "      <td>37</td>\n",
       "      <td>29</td>\n",
       "    </tr>\n",
       "  </tbody>\n",
       "</table>\n",
       "</div>"
      ],
      "text/plain": [
       "              Medicine Name  \\\n",
       "0   Avastin 400mg Injection   \n",
       "1  Augmentin 625 Duo Tablet   \n",
       "2       Azithral 500 Tablet   \n",
       "3          Ascoril LS Syrup   \n",
       "4         Aciloc 150 Tablet   \n",
       "\n",
       "                                         Composition  \\\n",
       "0                                Bevacizumab (400mg)   \n",
       "1    Amoxycillin  (500mg) +  Clavulanic Acid (125mg)   \n",
       "2                               Azithromycin (500mg)   \n",
       "3  Ambroxol (30mg/5ml) + Levosalbutamol (1mg/5ml)...   \n",
       "4                                 Ranitidine (150mg)   \n",
       "\n",
       "                                                Uses  \\\n",
       "0   Cancer of colon and rectum Non-small cell lun...   \n",
       "1                  Treatment of Bacterial infections   \n",
       "2                  Treatment of Bacterial infections   \n",
       "3                      Treatment of Cough with mucus   \n",
       "4  Treatment of Gastroesophageal reflux disease (...   \n",
       "\n",
       "                                        Side_effects  \\\n",
       "0  Rectal bleeding Taste change Headache Noseblee...   \n",
       "1  Vomiting Nausea Diarrhea Mucocutaneous candidi...   \n",
       "2                     Nausea Abdominal pain Diarrhea   \n",
       "3  Nausea Vomiting Diarrhea Upset stomach Stomach...   \n",
       "4     Headache Diarrhea Gastrointestinal disturbance   \n",
       "\n",
       "                                           Image URL  \\\n",
       "0  https://onemg.gumlet.io/l_watermark_346,w_480,...   \n",
       "1  https://onemg.gumlet.io/l_watermark_346,w_480,...   \n",
       "2  https://onemg.gumlet.io/l_watermark_346,w_480,...   \n",
       "3  https://onemg.gumlet.io/l_watermark_346,w_480,...   \n",
       "4  https://onemg.gumlet.io/l_watermark_346,w_480,...   \n",
       "\n",
       "                           Manufacturer  Excellent Review %  Average Review %  \\\n",
       "0          Roche Products India Pvt Ltd                  22                56   \n",
       "1  Glaxo SmithKline Pharmaceuticals Ltd                  47                35   \n",
       "2           Alembic Pharmaceuticals Ltd                  39                40   \n",
       "3          Glenmark Pharmaceuticals Ltd                  24                41   \n",
       "4            Cadila Pharmaceuticals Ltd                  34                37   \n",
       "\n",
       "   Poor Review %  \n",
       "0             22  \n",
       "1             18  \n",
       "2             21  \n",
       "3             35  \n",
       "4             29  "
      ]
     },
     "execution_count": 12,
     "metadata": {},
     "output_type": "execute_result"
    }
   ],
   "source": [
    "Drugs.head()"
   ]
  },
  {
   "cell_type": "markdown",
   "id": "d3d00a52",
   "metadata": {},
   "source": [
    "# Extraction of the  Important information and column needed for the project \n",
    "\n",
    "Medicine_Name, Composition, Uses, Image_URL, Manufacturer, All three Review\n"
   ]
  },
  {
   "cell_type": "code",
   "execution_count": 14,
   "id": "a3715caf",
   "metadata": {},
   "outputs": [
    {
     "data": {
      "text/html": [
       "<div>\n",
       "<style scoped>\n",
       "    .dataframe tbody tr th:only-of-type {\n",
       "        vertical-align: middle;\n",
       "    }\n",
       "\n",
       "    .dataframe tbody tr th {\n",
       "        vertical-align: top;\n",
       "    }\n",
       "\n",
       "    .dataframe thead th {\n",
       "        text-align: right;\n",
       "    }\n",
       "</style>\n",
       "<table border=\"1\" class=\"dataframe\">\n",
       "  <thead>\n",
       "    <tr style=\"text-align: right;\">\n",
       "      <th></th>\n",
       "      <th>Medicine Name</th>\n",
       "      <th>Composition</th>\n",
       "      <th>Uses</th>\n",
       "      <th>Image URL</th>\n",
       "      <th>Manufacturer</th>\n",
       "      <th>Excellent Review %</th>\n",
       "      <th>Average Review %</th>\n",
       "      <th>Poor Review %</th>\n",
       "    </tr>\n",
       "  </thead>\n",
       "  <tbody>\n",
       "    <tr>\n",
       "      <th>0</th>\n",
       "      <td>Avastin 400mg Injection</td>\n",
       "      <td>Bevacizumab (400mg)</td>\n",
       "      <td>Cancer of colon and rectum Non-small cell lun...</td>\n",
       "      <td>https://onemg.gumlet.io/l_watermark_346,w_480,...</td>\n",
       "      <td>Roche Products India Pvt Ltd</td>\n",
       "      <td>22</td>\n",
       "      <td>56</td>\n",
       "      <td>22</td>\n",
       "    </tr>\n",
       "    <tr>\n",
       "      <th>1</th>\n",
       "      <td>Augmentin 625 Duo Tablet</td>\n",
       "      <td>Amoxycillin  (500mg) +  Clavulanic Acid (125mg)</td>\n",
       "      <td>Treatment of Bacterial infections</td>\n",
       "      <td>https://onemg.gumlet.io/l_watermark_346,w_480,...</td>\n",
       "      <td>Glaxo SmithKline Pharmaceuticals Ltd</td>\n",
       "      <td>47</td>\n",
       "      <td>35</td>\n",
       "      <td>18</td>\n",
       "    </tr>\n",
       "    <tr>\n",
       "      <th>2</th>\n",
       "      <td>Azithral 500 Tablet</td>\n",
       "      <td>Azithromycin (500mg)</td>\n",
       "      <td>Treatment of Bacterial infections</td>\n",
       "      <td>https://onemg.gumlet.io/l_watermark_346,w_480,...</td>\n",
       "      <td>Alembic Pharmaceuticals Ltd</td>\n",
       "      <td>39</td>\n",
       "      <td>40</td>\n",
       "      <td>21</td>\n",
       "    </tr>\n",
       "    <tr>\n",
       "      <th>3</th>\n",
       "      <td>Ascoril LS Syrup</td>\n",
       "      <td>Ambroxol (30mg/5ml) + Levosalbutamol (1mg/5ml)...</td>\n",
       "      <td>Treatment of Cough with mucus</td>\n",
       "      <td>https://onemg.gumlet.io/l_watermark_346,w_480,...</td>\n",
       "      <td>Glenmark Pharmaceuticals Ltd</td>\n",
       "      <td>24</td>\n",
       "      <td>41</td>\n",
       "      <td>35</td>\n",
       "    </tr>\n",
       "    <tr>\n",
       "      <th>4</th>\n",
       "      <td>Aciloc 150 Tablet</td>\n",
       "      <td>Ranitidine (150mg)</td>\n",
       "      <td>Treatment of Gastroesophageal reflux disease (...</td>\n",
       "      <td>https://onemg.gumlet.io/l_watermark_346,w_480,...</td>\n",
       "      <td>Cadila Pharmaceuticals Ltd</td>\n",
       "      <td>34</td>\n",
       "      <td>37</td>\n",
       "      <td>29</td>\n",
       "    </tr>\n",
       "  </tbody>\n",
       "</table>\n",
       "</div>"
      ],
      "text/plain": [
       "              Medicine Name  \\\n",
       "0   Avastin 400mg Injection   \n",
       "1  Augmentin 625 Duo Tablet   \n",
       "2       Azithral 500 Tablet   \n",
       "3          Ascoril LS Syrup   \n",
       "4         Aciloc 150 Tablet   \n",
       "\n",
       "                                         Composition  \\\n",
       "0                                Bevacizumab (400mg)   \n",
       "1    Amoxycillin  (500mg) +  Clavulanic Acid (125mg)   \n",
       "2                               Azithromycin (500mg)   \n",
       "3  Ambroxol (30mg/5ml) + Levosalbutamol (1mg/5ml)...   \n",
       "4                                 Ranitidine (150mg)   \n",
       "\n",
       "                                                Uses  \\\n",
       "0   Cancer of colon and rectum Non-small cell lun...   \n",
       "1                  Treatment of Bacterial infections   \n",
       "2                  Treatment of Bacterial infections   \n",
       "3                      Treatment of Cough with mucus   \n",
       "4  Treatment of Gastroesophageal reflux disease (...   \n",
       "\n",
       "                                           Image URL  \\\n",
       "0  https://onemg.gumlet.io/l_watermark_346,w_480,...   \n",
       "1  https://onemg.gumlet.io/l_watermark_346,w_480,...   \n",
       "2  https://onemg.gumlet.io/l_watermark_346,w_480,...   \n",
       "3  https://onemg.gumlet.io/l_watermark_346,w_480,...   \n",
       "4  https://onemg.gumlet.io/l_watermark_346,w_480,...   \n",
       "\n",
       "                           Manufacturer  Excellent Review %  Average Review %  \\\n",
       "0          Roche Products India Pvt Ltd                  22                56   \n",
       "1  Glaxo SmithKline Pharmaceuticals Ltd                  47                35   \n",
       "2           Alembic Pharmaceuticals Ltd                  39                40   \n",
       "3          Glenmark Pharmaceuticals Ltd                  24                41   \n",
       "4            Cadila Pharmaceuticals Ltd                  34                37   \n",
       "\n",
       "   Poor Review %  \n",
       "0             22  \n",
       "1             18  \n",
       "2             21  \n",
       "3             35  \n",
       "4             29  "
      ]
     },
     "execution_count": 14,
     "metadata": {},
     "output_type": "execute_result"
    }
   ],
   "source": [
    "Drugs = Drugs[['Medicine Name', 'Composition', 'Uses', 'Image URL', 'Manufacturer', 'Excellent Review %', 'Average Review %', 'Poor Review %']]\n",
    "Drugs.head(5)"
   ]
  },
  {
   "cell_type": "markdown",
   "id": "a2f9fe68",
   "metadata": {},
   "source": [
    "# Checking for any empty column "
   ]
  },
  {
   "cell_type": "code",
   "execution_count": 15,
   "id": "e851b7b0",
   "metadata": {},
   "outputs": [
    {
     "data": {
      "text/plain": [
       "Medicine Name         0\n",
       "Composition           0\n",
       "Uses                  0\n",
       "Image URL             0\n",
       "Manufacturer          0\n",
       "Excellent Review %    0\n",
       "Average Review %      0\n",
       "Poor Review %         0\n",
       "dtype: int64"
      ]
     },
     "execution_count": 15,
     "metadata": {},
     "output_type": "execute_result"
    }
   ],
   "source": [
    "# Checking for null entries\n",
    "Drugs.isnull().sum()"
   ]
  },
  {
   "cell_type": "markdown",
   "id": "680309ea",
   "metadata": {},
   "source": [
    "# Checking for Deplicate Entries and removing the duplicates"
   ]
  },
  {
   "cell_type": "code",
   "execution_count": 21,
   "id": "2c08e8d6",
   "metadata": {},
   "outputs": [
    {
     "data": {
      "text/plain": [
       "85"
      ]
     },
     "execution_count": 21,
     "metadata": {},
     "output_type": "execute_result"
    }
   ],
   "source": [
    "Drugs.duplicated().sum()\n"
   ]
  },
  {
   "cell_type": "code",
   "execution_count": 22,
   "id": "2fe39d9e",
   "metadata": {},
   "outputs": [
    {
     "data": {
      "text/plain": [
       "0"
      ]
     },
     "execution_count": 22,
     "metadata": {},
     "output_type": "execute_result"
    }
   ],
   "source": [
    "Medicines = Drugs.drop_duplicates()\n",
    "Medicines.duplicated().sum()"
   ]
  },
  {
   "cell_type": "code",
   "execution_count": 24,
   "id": "3a9c9d75",
   "metadata": {},
   "outputs": [
    {
     "data": {
      "text/html": [
       "<div>\n",
       "<style scoped>\n",
       "    .dataframe tbody tr th:only-of-type {\n",
       "        vertical-align: middle;\n",
       "    }\n",
       "\n",
       "    .dataframe tbody tr th {\n",
       "        vertical-align: top;\n",
       "    }\n",
       "\n",
       "    .dataframe thead th {\n",
       "        text-align: right;\n",
       "    }\n",
       "</style>\n",
       "<table border=\"1\" class=\"dataframe\">\n",
       "  <thead>\n",
       "    <tr style=\"text-align: right;\">\n",
       "      <th></th>\n",
       "      <th>Medicine Name</th>\n",
       "      <th>Composition</th>\n",
       "      <th>Uses</th>\n",
       "      <th>Image URL</th>\n",
       "      <th>Manufacturer</th>\n",
       "      <th>Excellent Review %</th>\n",
       "      <th>Average Review %</th>\n",
       "      <th>Poor Review %</th>\n",
       "    </tr>\n",
       "  </thead>\n",
       "  <tbody>\n",
       "    <tr>\n",
       "      <th>0</th>\n",
       "      <td>Avastin 400mg Injection</td>\n",
       "      <td>Bevacizumab (400mg)</td>\n",
       "      <td>Cancer of colon and rectum Non-small cell lun...</td>\n",
       "      <td>https://onemg.gumlet.io/l_watermark_346,w_480,...</td>\n",
       "      <td>Roche Products India Pvt Ltd</td>\n",
       "      <td>22</td>\n",
       "      <td>56</td>\n",
       "      <td>22</td>\n",
       "    </tr>\n",
       "    <tr>\n",
       "      <th>1</th>\n",
       "      <td>Augmentin 625 Duo Tablet</td>\n",
       "      <td>Amoxycillin  (500mg) +  Clavulanic Acid (125mg)</td>\n",
       "      <td>Treatment of Bacterial infections</td>\n",
       "      <td>https://onemg.gumlet.io/l_watermark_346,w_480,...</td>\n",
       "      <td>Glaxo SmithKline Pharmaceuticals Ltd</td>\n",
       "      <td>47</td>\n",
       "      <td>35</td>\n",
       "      <td>18</td>\n",
       "    </tr>\n",
       "    <tr>\n",
       "      <th>2</th>\n",
       "      <td>Azithral 500 Tablet</td>\n",
       "      <td>Azithromycin (500mg)</td>\n",
       "      <td>Treatment of Bacterial infections</td>\n",
       "      <td>https://onemg.gumlet.io/l_watermark_346,w_480,...</td>\n",
       "      <td>Alembic Pharmaceuticals Ltd</td>\n",
       "      <td>39</td>\n",
       "      <td>40</td>\n",
       "      <td>21</td>\n",
       "    </tr>\n",
       "    <tr>\n",
       "      <th>3</th>\n",
       "      <td>Ascoril LS Syrup</td>\n",
       "      <td>Ambroxol (30mg/5ml) + Levosalbutamol (1mg/5ml)...</td>\n",
       "      <td>Treatment of Cough with mucus</td>\n",
       "      <td>https://onemg.gumlet.io/l_watermark_346,w_480,...</td>\n",
       "      <td>Glenmark Pharmaceuticals Ltd</td>\n",
       "      <td>24</td>\n",
       "      <td>41</td>\n",
       "      <td>35</td>\n",
       "    </tr>\n",
       "    <tr>\n",
       "      <th>4</th>\n",
       "      <td>Aciloc 150 Tablet</td>\n",
       "      <td>Ranitidine (150mg)</td>\n",
       "      <td>Treatment of Gastroesophageal reflux disease (...</td>\n",
       "      <td>https://onemg.gumlet.io/l_watermark_346,w_480,...</td>\n",
       "      <td>Cadila Pharmaceuticals Ltd</td>\n",
       "      <td>34</td>\n",
       "      <td>37</td>\n",
       "      <td>29</td>\n",
       "    </tr>\n",
       "  </tbody>\n",
       "</table>\n",
       "</div>"
      ],
      "text/plain": [
       "              Medicine Name  \\\n",
       "0   Avastin 400mg Injection   \n",
       "1  Augmentin 625 Duo Tablet   \n",
       "2       Azithral 500 Tablet   \n",
       "3          Ascoril LS Syrup   \n",
       "4         Aciloc 150 Tablet   \n",
       "\n",
       "                                         Composition  \\\n",
       "0                                Bevacizumab (400mg)   \n",
       "1    Amoxycillin  (500mg) +  Clavulanic Acid (125mg)   \n",
       "2                               Azithromycin (500mg)   \n",
       "3  Ambroxol (30mg/5ml) + Levosalbutamol (1mg/5ml)...   \n",
       "4                                 Ranitidine (150mg)   \n",
       "\n",
       "                                                Uses  \\\n",
       "0   Cancer of colon and rectum Non-small cell lun...   \n",
       "1                  Treatment of Bacterial infections   \n",
       "2                  Treatment of Bacterial infections   \n",
       "3                      Treatment of Cough with mucus   \n",
       "4  Treatment of Gastroesophageal reflux disease (...   \n",
       "\n",
       "                                           Image URL  \\\n",
       "0  https://onemg.gumlet.io/l_watermark_346,w_480,...   \n",
       "1  https://onemg.gumlet.io/l_watermark_346,w_480,...   \n",
       "2  https://onemg.gumlet.io/l_watermark_346,w_480,...   \n",
       "3  https://onemg.gumlet.io/l_watermark_346,w_480,...   \n",
       "4  https://onemg.gumlet.io/l_watermark_346,w_480,...   \n",
       "\n",
       "                           Manufacturer  Excellent Review %  Average Review %  \\\n",
       "0          Roche Products India Pvt Ltd                  22                56   \n",
       "1  Glaxo SmithKline Pharmaceuticals Ltd                  47                35   \n",
       "2           Alembic Pharmaceuticals Ltd                  39                40   \n",
       "3          Glenmark Pharmaceuticals Ltd                  24                41   \n",
       "4            Cadila Pharmaceuticals Ltd                  34                37   \n",
       "\n",
       "   Poor Review %  \n",
       "0             22  \n",
       "1             18  \n",
       "2             21  \n",
       "3             35  \n",
       "4             29  "
      ]
     },
     "execution_count": 24,
     "metadata": {},
     "output_type": "execute_result"
    }
   ],
   "source": [
    "Medicines.head()"
   ]
  },
  {
   "cell_type": "markdown",
   "id": "c512cca5",
   "metadata": {},
   "source": [
    "# Exploratory Data Analysis\n",
    "\n",
    "Evaluation of compositions of each APIs in each drugs "
   ]
  },
  {
   "cell_type": "code",
   "execution_count": 26,
   "id": "8c53ba26",
   "metadata": {},
   "outputs": [
    {
     "data": {
      "text/plain": [
       "Luliconazole (1% w/w)                                                                                   98\n",
       "Levocetirizine (5mg) + Montelukast (10mg)                                                               76\n",
       "Ketoconazole (2% w/w)                                                                                   61\n",
       "Domperidone (30mg) + Rabeprazole (20mg)                                                                 59\n",
       "Itraconazole (100mg)                                                                                    53\n",
       "                                                                                                        ..\n",
       "Digoxin (0.25mg)                                                                                         1\n",
       "Sulphacetamide (20% w/v)                                                                                 1\n",
       "Furosemide (10mg/ml)                                                                                     1\n",
       "Chloroquine (500mg)                                                                                      1\n",
       "Chromium Picolinate (100mcg) + D-Chiro Inositol (13.8mg) + Myo-Inositol (550mg) + Vitamin D3 (200IU)     1\n",
       "Name: Composition, Length: 3358, dtype: int64"
      ]
     },
     "execution_count": 26,
     "metadata": {},
     "output_type": "execute_result"
    }
   ],
   "source": [
    "Medicines['Composition'].value_counts()"
   ]
  },
  {
   "cell_type": "code",
   "execution_count": 30,
   "id": "4eb0c676",
   "metadata": {},
   "outputs": [],
   "source": [
    "salts_name = list(Medicines['Composition'].value_counts().keys())[0:20]\n",
    "count_of_meds_with_that_salt = list(Medicines['Composition'].value_counts())[0:20]"
   ]
  },
  {
   "cell_type": "code",
   "execution_count": 44,
   "id": "addd347c",
   "metadata": {},
   "outputs": [
    {
     "data": {
      "image/png": "[encoded data removed]",
      "text/plain": [
       "<Figure size 2000x1000 with 1 Axes>"
      ]
     },
     "metadata": {},
     "output_type": "display_data"
    }
   ],
   "source": [
    "# Composition\n",
    "\n",
    "plt.figure(figsize=(20,10))\n",
    "plt.bar(salts_name, count_of_meds_with_that_salt, color = 'y')\n",
    "plt.grid(True)\n",
    "plt.title('Count of Meds with same composition')\n",
    "plt.xticks(rotation=90)\n",
    "plt.xlabel('Salts Name')\n",
    "plt.ylabel('Count Of Medicine')\n",
    "plt.show()"
   ]
  },
  {
   "cell_type": "code",
   "execution_count": 33,
   "id": "a08f342d",
   "metadata": {},
   "outputs": [
    {
     "data": {
      "text/plain": [
       "Sun Pharmaceutical Industries Ltd    819\n",
       "Intas Pharmaceuticals Ltd            648\n",
       "Cipla Ltd                            569\n",
       "Torrent Pharmaceuticals Ltd          441\n",
       "Lupin Ltd                            432\n",
       "                                    ... \n",
       "Denis Chem Lab Ltd                     1\n",
       "Shilpex Pharmysis                      1\n",
       "Romas Remedies                         1\n",
       "Astech Pharma Pvt Ltd                  1\n",
       "Minova Life Sciences Pvt Ltd           1\n",
       "Name: Manufacturer, Length: 759, dtype: int64"
      ]
     },
     "execution_count": 33,
     "metadata": {},
     "output_type": "execute_result"
    }
   ],
   "source": [
    "Medicines['Manufacturer'].value_counts()"
   ]
  },
  {
   "cell_type": "code",
   "execution_count": 39,
   "id": "00074a75",
   "metadata": {},
   "outputs": [],
   "source": [
    "manu_name = list(Medicines['Manufacturer'].value_counts().keys())[0:30]\n",
    "count_manufacture_name = list(Medicines['Manufacturer'].value_counts())[0:30]"
   ]
  },
  {
   "cell_type": "code",
   "execution_count": 41,
   "id": "d307ba0c",
   "metadata": {},
   "outputs": [
    {
     "data": {
      "image/png": "[encoded data removed]",
      "text/plain": [
       "<Figure size 2000x1000 with 1 Axes>"
      ]
     },
     "metadata": {},
     "output_type": "display_data"
    }
   ],
   "source": [
    "# Manufacturer \n",
    "\n",
    "plt.figure(figsize=(20,10))\n",
    "plt.bar(manu_name, count_manufacture_name, color = 'g')\n",
    "plt.grid(True)\n",
    "plt.title('Count of Meds with same Manufacturer')\n",
    "plt.xticks(rotation=90)\n",
    "plt.xlabel('Salts Name')\n",
    "plt.ylabel('Count Of Medicine')\n",
    "plt.show()"
   ]
  },
  {
   "cell_type": "markdown",
   "id": "09772e2b",
   "metadata": {},
   "source": [
    "# Removing plus sign from the  APIs compounds and separating each salt\n"
   ]
  },
  {
   "cell_type": "code",
   "execution_count": 50,
   "id": "28a9d142",
   "metadata": {},
   "outputs": [
    {
     "name": "stderr",
     "output_type": "stream",
     "text": [
      "C:\\Users\\KAREEM\\AppData\\Local\\Temp\\ipykernel_6516\\4046361413.py:6: SettingWithCopyWarning: \n",
      "A value is trying to be set on a copy of a slice from a DataFrame.\n",
      "Try using .loc[row_indexer,col_indexer] = value instead\n",
      "\n",
      "See the caveats in the documentation: https://pandas.pydata.org/pandas-docs/stable/user_guide/indexing.html#returning-a-view-versus-a-copy\n",
      "  Medicines['Composition'] = Medicines['Composition'].apply(convert)\n"
     ]
    }
   ],
   "source": [
    "def convert(input_string):\n",
    "    # Split the input string using ' + ' as the delimiter\n",
    "    salts = [item.strip() for item in input_string.split(' + ')]\n",
    "    return salts\n",
    "\n",
    "Medicines['Composition'] = Medicines['Composition'].apply(convert)"
   ]
  },
  {
   "cell_type": "code",
   "execution_count": 51,
   "id": "400b7519",
   "metadata": {},
   "outputs": [
    {
     "data": {
      "text/html": [
       "<div>\n",
       "<style scoped>\n",
       "    .dataframe tbody tr th:only-of-type {\n",
       "        vertical-align: middle;\n",
       "    }\n",
       "\n",
       "    .dataframe tbody tr th {\n",
       "        vertical-align: top;\n",
       "    }\n",
       "\n",
       "    .dataframe thead th {\n",
       "        text-align: right;\n",
       "    }\n",
       "</style>\n",
       "<table border=\"1\" class=\"dataframe\">\n",
       "  <thead>\n",
       "    <tr style=\"text-align: right;\">\n",
       "      <th></th>\n",
       "      <th>Medicine Name</th>\n",
       "      <th>Composition</th>\n",
       "      <th>Uses</th>\n",
       "      <th>Image URL</th>\n",
       "      <th>Manufacturer</th>\n",
       "      <th>Excellent Review %</th>\n",
       "      <th>Average Review %</th>\n",
       "      <th>Poor Review %</th>\n",
       "    </tr>\n",
       "  </thead>\n",
       "  <tbody>\n",
       "    <tr>\n",
       "      <th>0</th>\n",
       "      <td>Avastin 400mg Injection</td>\n",
       "      <td>[Bevacizumab (400mg)]</td>\n",
       "      <td>Cancer of colon and rectum Non-small cell lun...</td>\n",
       "      <td>https://onemg.gumlet.io/l_watermark_346,w_480,...</td>\n",
       "      <td>Roche Products India Pvt Ltd</td>\n",
       "      <td>22</td>\n",
       "      <td>56</td>\n",
       "      <td>22</td>\n",
       "    </tr>\n",
       "    <tr>\n",
       "      <th>1</th>\n",
       "      <td>Augmentin 625 Duo Tablet</td>\n",
       "      <td>[Amoxycillin  (500mg), Clavulanic Acid (125mg)]</td>\n",
       "      <td>Treatment of Bacterial infections</td>\n",
       "      <td>https://onemg.gumlet.io/l_watermark_346,w_480,...</td>\n",
       "      <td>Glaxo SmithKline Pharmaceuticals Ltd</td>\n",
       "      <td>47</td>\n",
       "      <td>35</td>\n",
       "      <td>18</td>\n",
       "    </tr>\n",
       "    <tr>\n",
       "      <th>2</th>\n",
       "      <td>Azithral 500 Tablet</td>\n",
       "      <td>[Azithromycin (500mg)]</td>\n",
       "      <td>Treatment of Bacterial infections</td>\n",
       "      <td>https://onemg.gumlet.io/l_watermark_346,w_480,...</td>\n",
       "      <td>Alembic Pharmaceuticals Ltd</td>\n",
       "      <td>39</td>\n",
       "      <td>40</td>\n",
       "      <td>21</td>\n",
       "    </tr>\n",
       "    <tr>\n",
       "      <th>3</th>\n",
       "      <td>Ascoril LS Syrup</td>\n",
       "      <td>[Ambroxol (30mg/5ml), Levosalbutamol (1mg/5ml)...</td>\n",
       "      <td>Treatment of Cough with mucus</td>\n",
       "      <td>https://onemg.gumlet.io/l_watermark_346,w_480,...</td>\n",
       "      <td>Glenmark Pharmaceuticals Ltd</td>\n",
       "      <td>24</td>\n",
       "      <td>41</td>\n",
       "      <td>35</td>\n",
       "    </tr>\n",
       "    <tr>\n",
       "      <th>4</th>\n",
       "      <td>Aciloc 150 Tablet</td>\n",
       "      <td>[Ranitidine (150mg)]</td>\n",
       "      <td>Treatment of Gastroesophageal reflux disease (...</td>\n",
       "      <td>https://onemg.gumlet.io/l_watermark_346,w_480,...</td>\n",
       "      <td>Cadila Pharmaceuticals Ltd</td>\n",
       "      <td>34</td>\n",
       "      <td>37</td>\n",
       "      <td>29</td>\n",
       "    </tr>\n",
       "  </tbody>\n",
       "</table>\n",
       "</div>"
      ],
      "text/plain": [
       "              Medicine Name  \\\n",
       "0   Avastin 400mg Injection   \n",
       "1  Augmentin 625 Duo Tablet   \n",
       "2       Azithral 500 Tablet   \n",
       "3          Ascoril LS Syrup   \n",
       "4         Aciloc 150 Tablet   \n",
       "\n",
       "                                         Composition  \\\n",
       "0                              [Bevacizumab (400mg)]   \n",
       "1    [Amoxycillin  (500mg), Clavulanic Acid (125mg)]   \n",
       "2                             [Azithromycin (500mg)]   \n",
       "3  [Ambroxol (30mg/5ml), Levosalbutamol (1mg/5ml)...   \n",
       "4                               [Ranitidine (150mg)]   \n",
       "\n",
       "                                                Uses  \\\n",
       "0   Cancer of colon and rectum Non-small cell lun...   \n",
       "1                  Treatment of Bacterial infections   \n",
       "2                  Treatment of Bacterial infections   \n",
       "3                      Treatment of Cough with mucus   \n",
       "4  Treatment of Gastroesophageal reflux disease (...   \n",
       "\n",
       "                                           Image URL  \\\n",
       "0  https://onemg.gumlet.io/l_watermark_346,w_480,...   \n",
       "1  https://onemg.gumlet.io/l_watermark_346,w_480,...   \n",
       "2  https://onemg.gumlet.io/l_watermark_346,w_480,...   \n",
       "3  https://onemg.gumlet.io/l_watermark_346,w_480,...   \n",
       "4  https://onemg.gumlet.io/l_watermark_346,w_480,...   \n",
       "\n",
       "                           Manufacturer  Excellent Review %  Average Review %  \\\n",
       "0          Roche Products India Pvt Ltd                  22                56   \n",
       "1  Glaxo SmithKline Pharmaceuticals Ltd                  47                35   \n",
       "2           Alembic Pharmaceuticals Ltd                  39                40   \n",
       "3          Glenmark Pharmaceuticals Ltd                  24                41   \n",
       "4            Cadila Pharmaceuticals Ltd                  34                37   \n",
       "\n",
       "   Poor Review %  \n",
       "0             22  \n",
       "1             18  \n",
       "2             21  \n",
       "3             35  \n",
       "4             29  "
      ]
     },
     "execution_count": 51,
     "metadata": {},
     "output_type": "execute_result"
    }
   ],
   "source": [
    "Medicines.head()"
   ]
  },
  {
   "cell_type": "code",
   "execution_count": 52,
   "id": "ccf4608a",
   "metadata": {},
   "outputs": [
    {
     "name": "stderr",
     "output_type": "stream",
     "text": [
      "C:\\Users\\KAREEM\\AppData\\Local\\Temp\\ipykernel_6516\\2675706073.py:2: SettingWithCopyWarning: \n",
      "A value is trying to be set on a copy of a slice from a DataFrame.\n",
      "Try using .loc[row_indexer,col_indexer] = value instead\n",
      "\n",
      "See the caveats in the documentation: https://pandas.pydata.org/pandas-docs/stable/user_guide/indexing.html#returning-a-view-versus-a-copy\n",
      "  Medicines['Uses'] = Medicines['Uses'].apply(lambda x:x.split())\n"
     ]
    }
   ],
   "source": [
    "# Converting Uses into list\n",
    "Medicines['Uses'] = Medicines['Uses'].apply(lambda x:x.split())"
   ]
  },
  {
   "cell_type": "code",
   "execution_count": 53,
   "id": "a93f6c67",
   "metadata": {},
   "outputs": [
    {
     "data": {
      "text/html": [
       "<div>\n",
       "<style scoped>\n",
       "    .dataframe tbody tr th:only-of-type {\n",
       "        vertical-align: middle;\n",
       "    }\n",
       "\n",
       "    .dataframe tbody tr th {\n",
       "        vertical-align: top;\n",
       "    }\n",
       "\n",
       "    .dataframe thead th {\n",
       "        text-align: right;\n",
       "    }\n",
       "</style>\n",
       "<table border=\"1\" class=\"dataframe\">\n",
       "  <thead>\n",
       "    <tr style=\"text-align: right;\">\n",
       "      <th></th>\n",
       "      <th>Medicine Name</th>\n",
       "      <th>Composition</th>\n",
       "      <th>Uses</th>\n",
       "      <th>Image URL</th>\n",
       "      <th>Manufacturer</th>\n",
       "      <th>Excellent Review %</th>\n",
       "      <th>Average Review %</th>\n",
       "      <th>Poor Review %</th>\n",
       "    </tr>\n",
       "  </thead>\n",
       "  <tbody>\n",
       "    <tr>\n",
       "      <th>0</th>\n",
       "      <td>Avastin 400mg Injection</td>\n",
       "      <td>[Bevacizumab (400mg)]</td>\n",
       "      <td>[Cancer, of, colon, and, rectum, Non-small, ce...</td>\n",
       "      <td>https://onemg.gumlet.io/l_watermark_346,w_480,...</td>\n",
       "      <td>Roche Products India Pvt Ltd</td>\n",
       "      <td>22</td>\n",
       "      <td>56</td>\n",
       "      <td>22</td>\n",
       "    </tr>\n",
       "    <tr>\n",
       "      <th>1</th>\n",
       "      <td>Augmentin 625 Duo Tablet</td>\n",
       "      <td>[Amoxycillin  (500mg), Clavulanic Acid (125mg)]</td>\n",
       "      <td>[Treatment, of, Bacterial, infections]</td>\n",
       "      <td>https://onemg.gumlet.io/l_watermark_346,w_480,...</td>\n",
       "      <td>Glaxo SmithKline Pharmaceuticals Ltd</td>\n",
       "      <td>47</td>\n",
       "      <td>35</td>\n",
       "      <td>18</td>\n",
       "    </tr>\n",
       "    <tr>\n",
       "      <th>2</th>\n",
       "      <td>Azithral 500 Tablet</td>\n",
       "      <td>[Azithromycin (500mg)]</td>\n",
       "      <td>[Treatment, of, Bacterial, infections]</td>\n",
       "      <td>https://onemg.gumlet.io/l_watermark_346,w_480,...</td>\n",
       "      <td>Alembic Pharmaceuticals Ltd</td>\n",
       "      <td>39</td>\n",
       "      <td>40</td>\n",
       "      <td>21</td>\n",
       "    </tr>\n",
       "    <tr>\n",
       "      <th>3</th>\n",
       "      <td>Ascoril LS Syrup</td>\n",
       "      <td>[Ambroxol (30mg/5ml), Levosalbutamol (1mg/5ml)...</td>\n",
       "      <td>[Treatment, of, Cough, with, mucus]</td>\n",
       "      <td>https://onemg.gumlet.io/l_watermark_346,w_480,...</td>\n",
       "      <td>Glenmark Pharmaceuticals Ltd</td>\n",
       "      <td>24</td>\n",
       "      <td>41</td>\n",
       "      <td>35</td>\n",
       "    </tr>\n",
       "    <tr>\n",
       "      <th>4</th>\n",
       "      <td>Aciloc 150 Tablet</td>\n",
       "      <td>[Ranitidine (150mg)]</td>\n",
       "      <td>[Treatment, of, Gastroesophageal, reflux, dise...</td>\n",
       "      <td>https://onemg.gumlet.io/l_watermark_346,w_480,...</td>\n",
       "      <td>Cadila Pharmaceuticals Ltd</td>\n",
       "      <td>34</td>\n",
       "      <td>37</td>\n",
       "      <td>29</td>\n",
       "    </tr>\n",
       "  </tbody>\n",
       "</table>\n",
       "</div>"
      ],
      "text/plain": [
       "              Medicine Name  \\\n",
       "0   Avastin 400mg Injection   \n",
       "1  Augmentin 625 Duo Tablet   \n",
       "2       Azithral 500 Tablet   \n",
       "3          Ascoril LS Syrup   \n",
       "4         Aciloc 150 Tablet   \n",
       "\n",
       "                                         Composition  \\\n",
       "0                              [Bevacizumab (400mg)]   \n",
       "1    [Amoxycillin  (500mg), Clavulanic Acid (125mg)]   \n",
       "2                             [Azithromycin (500mg)]   \n",
       "3  [Ambroxol (30mg/5ml), Levosalbutamol (1mg/5ml)...   \n",
       "4                               [Ranitidine (150mg)]   \n",
       "\n",
       "                                                Uses  \\\n",
       "0  [Cancer, of, colon, and, rectum, Non-small, ce...   \n",
       "1             [Treatment, of, Bacterial, infections]   \n",
       "2             [Treatment, of, Bacterial, infections]   \n",
       "3                [Treatment, of, Cough, with, mucus]   \n",
       "4  [Treatment, of, Gastroesophageal, reflux, dise...   \n",
       "\n",
       "                                           Image URL  \\\n",
       "0  https://onemg.gumlet.io/l_watermark_346,w_480,...   \n",
       "1  https://onemg.gumlet.io/l_watermark_346,w_480,...   \n",
       "2  https://onemg.gumlet.io/l_watermark_346,w_480,...   \n",
       "3  https://onemg.gumlet.io/l_watermark_346,w_480,...   \n",
       "4  https://onemg.gumlet.io/l_watermark_346,w_480,...   \n",
       "\n",
       "                           Manufacturer  Excellent Review %  Average Review %  \\\n",
       "0          Roche Products India Pvt Ltd                  22                56   \n",
       "1  Glaxo SmithKline Pharmaceuticals Ltd                  47                35   \n",
       "2           Alembic Pharmaceuticals Ltd                  39                40   \n",
       "3          Glenmark Pharmaceuticals Ltd                  24                41   \n",
       "4            Cadila Pharmaceuticals Ltd                  34                37   \n",
       "\n",
       "   Poor Review %  \n",
       "0             22  \n",
       "1             18  \n",
       "2             21  \n",
       "3             35  \n",
       "4             29  "
      ]
     },
     "execution_count": 53,
     "metadata": {},
     "output_type": "execute_result"
    }
   ],
   "source": [
    "Medicines.head()"
   ]
  },
  {
   "cell_type": "code",
   "execution_count": 57,
   "id": "64cd08ef",
   "metadata": {},
   "outputs": [
    {
     "name": "stderr",
     "output_type": "stream",
     "text": [
      "C:\\Users\\KAREEM\\AppData\\Local\\Temp\\ipykernel_6516\\2121163858.py:3: SettingWithCopyWarning: \n",
      "A value is trying to be set on a copy of a slice from a DataFrame.\n",
      "Try using .loc[row_indexer,col_indexer] = value instead\n",
      "\n",
      "See the caveats in the documentation: https://pandas.pydata.org/pandas-docs/stable/user_guide/indexing.html#returning-a-view-versus-a-copy\n",
      "  Medicines['Composition'] = Medicines['Composition'].apply(lambda x:[i.replace(\" \",\"\") for i in x])\n"
     ]
    }
   ],
   "source": [
    "# Removing spaces between salt name and its power\n",
    "\n",
    "Medicines['Composition'] = Medicines['Composition'].apply(lambda x:[i.replace(\" \",\"\") for i in x])\n",
    "\n"
   ]
  },
  {
   "cell_type": "code",
   "execution_count": 56,
   "id": "125e2391",
   "metadata": {},
   "outputs": [
    {
     "data": {
      "text/html": [
       "<div>\n",
       "<style scoped>\n",
       "    .dataframe tbody tr th:only-of-type {\n",
       "        vertical-align: middle;\n",
       "    }\n",
       "\n",
       "    .dataframe tbody tr th {\n",
       "        vertical-align: top;\n",
       "    }\n",
       "\n",
       "    .dataframe thead th {\n",
       "        text-align: right;\n",
       "    }\n",
       "</style>\n",
       "<table border=\"1\" class=\"dataframe\">\n",
       "  <thead>\n",
       "    <tr style=\"text-align: right;\">\n",
       "      <th></th>\n",
       "      <th>Medicine Name</th>\n",
       "      <th>Composition</th>\n",
       "      <th>Uses</th>\n",
       "      <th>Image URL</th>\n",
       "      <th>Manufacturer</th>\n",
       "      <th>Excellent Review %</th>\n",
       "      <th>Average Review %</th>\n",
       "      <th>Poor Review %</th>\n",
       "    </tr>\n",
       "  </thead>\n",
       "  <tbody>\n",
       "    <tr>\n",
       "      <th>0</th>\n",
       "      <td>Avastin 400mg Injection</td>\n",
       "      <td>Bevacizumab (400mg)</td>\n",
       "      <td>Cancer of colon and rectum Non-small cell lun...</td>\n",
       "      <td>https://onemg.gumlet.io/l_watermark_346,w_480,...</td>\n",
       "      <td>Roche Products India Pvt Ltd</td>\n",
       "      <td>22</td>\n",
       "      <td>56</td>\n",
       "      <td>22</td>\n",
       "    </tr>\n",
       "    <tr>\n",
       "      <th>1</th>\n",
       "      <td>Augmentin 625 Duo Tablet</td>\n",
       "      <td>Amoxycillin  (500mg) +  Clavulanic Acid (125mg)</td>\n",
       "      <td>Treatment of Bacterial infections</td>\n",
       "      <td>https://onemg.gumlet.io/l_watermark_346,w_480,...</td>\n",
       "      <td>Glaxo SmithKline Pharmaceuticals Ltd</td>\n",
       "      <td>47</td>\n",
       "      <td>35</td>\n",
       "      <td>18</td>\n",
       "    </tr>\n",
       "    <tr>\n",
       "      <th>2</th>\n",
       "      <td>Azithral 500 Tablet</td>\n",
       "      <td>Azithromycin (500mg)</td>\n",
       "      <td>Treatment of Bacterial infections</td>\n",
       "      <td>https://onemg.gumlet.io/l_watermark_346,w_480,...</td>\n",
       "      <td>Alembic Pharmaceuticals Ltd</td>\n",
       "      <td>39</td>\n",
       "      <td>40</td>\n",
       "      <td>21</td>\n",
       "    </tr>\n",
       "    <tr>\n",
       "      <th>3</th>\n",
       "      <td>Ascoril LS Syrup</td>\n",
       "      <td>Ambroxol (30mg/5ml) + Levosalbutamol (1mg/5ml)...</td>\n",
       "      <td>Treatment of Cough with mucus</td>\n",
       "      <td>https://onemg.gumlet.io/l_watermark_346,w_480,...</td>\n",
       "      <td>Glenmark Pharmaceuticals Ltd</td>\n",
       "      <td>24</td>\n",
       "      <td>41</td>\n",
       "      <td>35</td>\n",
       "    </tr>\n",
       "    <tr>\n",
       "      <th>4</th>\n",
       "      <td>Aciloc 150 Tablet</td>\n",
       "      <td>Ranitidine (150mg)</td>\n",
       "      <td>Treatment of Gastroesophageal reflux disease (...</td>\n",
       "      <td>https://onemg.gumlet.io/l_watermark_346,w_480,...</td>\n",
       "      <td>Cadila Pharmaceuticals Ltd</td>\n",
       "      <td>34</td>\n",
       "      <td>37</td>\n",
       "      <td>29</td>\n",
       "    </tr>\n",
       "  </tbody>\n",
       "</table>\n",
       "</div>"
      ],
      "text/plain": [
       "              Medicine Name  \\\n",
       "0   Avastin 400mg Injection   \n",
       "1  Augmentin 625 Duo Tablet   \n",
       "2       Azithral 500 Tablet   \n",
       "3          Ascoril LS Syrup   \n",
       "4         Aciloc 150 Tablet   \n",
       "\n",
       "                                         Composition  \\\n",
       "0                                Bevacizumab (400mg)   \n",
       "1    Amoxycillin  (500mg) +  Clavulanic Acid (125mg)   \n",
       "2                               Azithromycin (500mg)   \n",
       "3  Ambroxol (30mg/5ml) + Levosalbutamol (1mg/5ml)...   \n",
       "4                                 Ranitidine (150mg)   \n",
       "\n",
       "                                                Uses  \\\n",
       "0   Cancer of colon and rectum Non-small cell lun...   \n",
       "1                  Treatment of Bacterial infections   \n",
       "2                  Treatment of Bacterial infections   \n",
       "3                      Treatment of Cough with mucus   \n",
       "4  Treatment of Gastroesophageal reflux disease (...   \n",
       "\n",
       "                                           Image URL  \\\n",
       "0  https://onemg.gumlet.io/l_watermark_346,w_480,...   \n",
       "1  https://onemg.gumlet.io/l_watermark_346,w_480,...   \n",
       "2  https://onemg.gumlet.io/l_watermark_346,w_480,...   \n",
       "3  https://onemg.gumlet.io/l_watermark_346,w_480,...   \n",
       "4  https://onemg.gumlet.io/l_watermark_346,w_480,...   \n",
       "\n",
       "                           Manufacturer  Excellent Review %  Average Review %  \\\n",
       "0          Roche Products India Pvt Ltd                  22                56   \n",
       "1  Glaxo SmithKline Pharmaceuticals Ltd                  47                35   \n",
       "2           Alembic Pharmaceuticals Ltd                  39                40   \n",
       "3          Glenmark Pharmaceuticals Ltd                  24                41   \n",
       "4            Cadila Pharmaceuticals Ltd                  34                37   \n",
       "\n",
       "   Poor Review %  \n",
       "0             22  \n",
       "1             18  \n",
       "2             21  \n",
       "3             35  \n",
       "4             29  "
      ]
     },
     "execution_count": 56,
     "metadata": {},
     "output_type": "execute_result"
    }
   ],
   "source": [
    "medicines.head()"
   ]
  },
  {
   "cell_type": "markdown",
   "id": "591083dd",
   "metadata": {},
   "source": [
    "# Ranking of each meachines with medicine Score "
   ]
  },
  {
   "cell_type": "code",
   "execution_count": 59,
   "id": "2f8d1d10",
   "metadata": {},
   "outputs": [
    {
     "name": "stderr",
     "output_type": "stream",
     "text": [
      "C:\\Users\\KAREEM\\AppData\\Local\\Temp\\ipykernel_6516\\3712646555.py:8: SettingWithCopyWarning: \n",
      "A value is trying to be set on a copy of a slice from a DataFrame.\n",
      "Try using .loc[row_indexer,col_indexer] = value instead\n",
      "\n",
      "See the caveats in the documentation: https://pandas.pydata.org/pandas-docs/stable/user_guide/indexing.html#returning-a-view-versus-a-copy\n",
      "  Medicines['Medicine Score'] = round((Medicines['Excellent Review %']/100 * 5.0) + (Medicines['Average Review %']/100 * 3.0) + (Medicines['Poor Review %']/100 *1.0), 2)\n"
     ]
    }
   ],
   "source": [
    "# Creating medicine score column for each medicine\n",
    "#weight_excell = 5.0\n",
    "#weight_avg = 3.0\n",
    "#weight_poor = 1.0\n",
    "# using this formula we are calculating medicine_score\n",
    "# score = (excell_improvement/100 * weight_excell) + (avg_improvement/100 * weight_avg) + (poor_improvement/100 * weight_poor)\n",
    "\n",
    "Medicines['Medicine Score'] = round((Medicines['Excellent Review %']/100 * 5.0) + (Medicines['Average Review %']/100 * 3.0) + (Medicines['Poor Review %']/100 *1.0), 2)"
   ]
  },
  {
   "cell_type": "code",
   "execution_count": 61,
   "id": "d6470388",
   "metadata": {},
   "outputs": [
    {
     "data": {
      "text/html": [
       "<div>\n",
       "<style scoped>\n",
       "    .dataframe tbody tr th:only-of-type {\n",
       "        vertical-align: middle;\n",
       "    }\n",
       "\n",
       "    .dataframe tbody tr th {\n",
       "        vertical-align: top;\n",
       "    }\n",
       "\n",
       "    .dataframe thead th {\n",
       "        text-align: right;\n",
       "    }\n",
       "</style>\n",
       "<table border=\"1\" class=\"dataframe\">\n",
       "  <thead>\n",
       "    <tr style=\"text-align: right;\">\n",
       "      <th></th>\n",
       "      <th>Medicine Name</th>\n",
       "      <th>Composition</th>\n",
       "      <th>Uses</th>\n",
       "      <th>Image URL</th>\n",
       "      <th>Manufacturer</th>\n",
       "      <th>Excellent Review %</th>\n",
       "      <th>Average Review %</th>\n",
       "      <th>Poor Review %</th>\n",
       "      <th>Medicine Score</th>\n",
       "    </tr>\n",
       "  </thead>\n",
       "  <tbody>\n",
       "    <tr>\n",
       "      <th>0</th>\n",
       "      <td>Avastin 400mg Injection</td>\n",
       "      <td>[Bevacizumab(400mg)]</td>\n",
       "      <td>[Cancer, of, colon, and, rectum, Non-small, ce...</td>\n",
       "      <td>https://onemg.gumlet.io/l_watermark_346,w_480,...</td>\n",
       "      <td>Roche Products India Pvt Ltd</td>\n",
       "      <td>22</td>\n",
       "      <td>56</td>\n",
       "      <td>22</td>\n",
       "      <td>3.00</td>\n",
       "    </tr>\n",
       "    <tr>\n",
       "      <th>1</th>\n",
       "      <td>Augmentin 625 Duo Tablet</td>\n",
       "      <td>[Amoxycillin(500mg), ClavulanicAcid(125mg)]</td>\n",
       "      <td>[Treatment, of, Bacterial, infections]</td>\n",
       "      <td>https://onemg.gumlet.io/l_watermark_346,w_480,...</td>\n",
       "      <td>Glaxo SmithKline Pharmaceuticals Ltd</td>\n",
       "      <td>47</td>\n",
       "      <td>35</td>\n",
       "      <td>18</td>\n",
       "      <td>3.58</td>\n",
       "    </tr>\n",
       "    <tr>\n",
       "      <th>2</th>\n",
       "      <td>Azithral 500 Tablet</td>\n",
       "      <td>[Azithromycin(500mg)]</td>\n",
       "      <td>[Treatment, of, Bacterial, infections]</td>\n",
       "      <td>https://onemg.gumlet.io/l_watermark_346,w_480,...</td>\n",
       "      <td>Alembic Pharmaceuticals Ltd</td>\n",
       "      <td>39</td>\n",
       "      <td>40</td>\n",
       "      <td>21</td>\n",
       "      <td>3.36</td>\n",
       "    </tr>\n",
       "    <tr>\n",
       "      <th>3</th>\n",
       "      <td>Ascoril LS Syrup</td>\n",
       "      <td>[Ambroxol(30mg/5ml), Levosalbutamol(1mg/5ml), ...</td>\n",
       "      <td>[Treatment, of, Cough, with, mucus]</td>\n",
       "      <td>https://onemg.gumlet.io/l_watermark_346,w_480,...</td>\n",
       "      <td>Glenmark Pharmaceuticals Ltd</td>\n",
       "      <td>24</td>\n",
       "      <td>41</td>\n",
       "      <td>35</td>\n",
       "      <td>2.78</td>\n",
       "    </tr>\n",
       "    <tr>\n",
       "      <th>4</th>\n",
       "      <td>Aciloc 150 Tablet</td>\n",
       "      <td>[Ranitidine(150mg)]</td>\n",
       "      <td>[Treatment, of, Gastroesophageal, reflux, dise...</td>\n",
       "      <td>https://onemg.gumlet.io/l_watermark_346,w_480,...</td>\n",
       "      <td>Cadila Pharmaceuticals Ltd</td>\n",
       "      <td>34</td>\n",
       "      <td>37</td>\n",
       "      <td>29</td>\n",
       "      <td>3.10</td>\n",
       "    </tr>\n",
       "  </tbody>\n",
       "</table>\n",
       "</div>"
      ],
      "text/plain": [
       "              Medicine Name  \\\n",
       "0   Avastin 400mg Injection   \n",
       "1  Augmentin 625 Duo Tablet   \n",
       "2       Azithral 500 Tablet   \n",
       "3          Ascoril LS Syrup   \n",
       "4         Aciloc 150 Tablet   \n",
       "\n",
       "                                         Composition  \\\n",
       "0                               [Bevacizumab(400mg)]   \n",
       "1        [Amoxycillin(500mg), ClavulanicAcid(125mg)]   \n",
       "2                              [Azithromycin(500mg)]   \n",
       "3  [Ambroxol(30mg/5ml), Levosalbutamol(1mg/5ml), ...   \n",
       "4                                [Ranitidine(150mg)]   \n",
       "\n",
       "                                                Uses  \\\n",
       "0  [Cancer, of, colon, and, rectum, Non-small, ce...   \n",
       "1             [Treatment, of, Bacterial, infections]   \n",
       "2             [Treatment, of, Bacterial, infections]   \n",
       "3                [Treatment, of, Cough, with, mucus]   \n",
       "4  [Treatment, of, Gastroesophageal, reflux, dise...   \n",
       "\n",
       "                                           Image URL  \\\n",
       "0  https://onemg.gumlet.io/l_watermark_346,w_480,...   \n",
       "1  https://onemg.gumlet.io/l_watermark_346,w_480,...   \n",
       "2  https://onemg.gumlet.io/l_watermark_346,w_480,...   \n",
       "3  https://onemg.gumlet.io/l_watermark_346,w_480,...   \n",
       "4  https://onemg.gumlet.io/l_watermark_346,w_480,...   \n",
       "\n",
       "                           Manufacturer  Excellent Review %  Average Review %  \\\n",
       "0          Roche Products India Pvt Ltd                  22                56   \n",
       "1  Glaxo SmithKline Pharmaceuticals Ltd                  47                35   \n",
       "2           Alembic Pharmaceuticals Ltd                  39                40   \n",
       "3          Glenmark Pharmaceuticals Ltd                  24                41   \n",
       "4            Cadila Pharmaceuticals Ltd                  34                37   \n",
       "\n",
       "   Poor Review %  Medicine Score  \n",
       "0             22            3.00  \n",
       "1             18            3.58  \n",
       "2             21            3.36  \n",
       "3             35            2.78  \n",
       "4             29            3.10  "
      ]
     },
     "execution_count": 61,
     "metadata": {},
     "output_type": "execute_result"
    }
   ],
   "source": [
    "Medicines.head()"
   ]
  },
  {
   "cell_type": "markdown",
   "id": "efdf2404",
   "metadata": {},
   "source": [
    "# Exploratory Analysis of Medicines Scores"
   ]
  },
  {
   "cell_type": "code",
   "execution_count": 62,
   "id": "3a9d7dd2",
   "metadata": {},
   "outputs": [
    {
     "data": {
      "text/plain": [
       "4.34    899\n",
       "3.00    692\n",
       "5.00    602\n",
       "3.66    487\n",
       "1.66    417\n",
       "       ... \n",
       "4.62      1\n",
       "1.82      1\n",
       "1.62      1\n",
       "1.98      1\n",
       "1.38      1\n",
       "Name: Medicine Score, Length: 166, dtype: int64"
      ]
     },
     "execution_count": 62,
     "metadata": {},
     "output_type": "execute_result"
    }
   ],
   "source": [
    "Medicines['Medicine Score'].value_counts()\n"
   ]
  },
  {
   "cell_type": "code",
   "execution_count": 63,
   "id": "a9100af2",
   "metadata": {},
   "outputs": [],
   "source": [
    "medicine_scores = list(Medicines['Medicine Score'].value_counts().keys())\n",
    "count_medicine_score = list(Medicines['Medicine Score'].value_counts())"
   ]
  },
  {
   "cell_type": "code",
   "execution_count": 64,
   "id": "dd8fa3b8",
   "metadata": {},
   "outputs": [],
   "source": [
    "index = []\n",
    "new_scores = []\n",
    "for i in medicine_scores:\n",
    "    if i>3.1:\n",
    "        index.append(medicine_scores.index(i))\n",
    "        new_scores.append(i)\n",
    "    else :\n",
    "        pass"
   ]
  },
  {
   "cell_type": "code",
   "execution_count": 65,
   "id": "5f439b8e",
   "metadata": {},
   "outputs": [],
   "source": [
    "scores_count = []\n",
    "for i in index:\n",
    "    scores_count.append(count_medicine_score[i])"
   ]
  },
  {
   "cell_type": "code",
   "execution_count": 69,
   "id": "e76c68c0",
   "metadata": {},
   "outputs": [
    {
     "data": {
      "image/png": "[encoded data removed]",
      "text/plain": [
       "<Figure size 1400x1200 with 1 Axes>"
      ]
     },
     "metadata": {},
     "output_type": "display_data"
    }
   ],
   "source": [
    "plt.figure(figsize=(14,12))\n",
    "plt.bar(new_scores, scores_count, color = 'g')\n",
    "plt.grid(True)\n",
    "plt.title('Medicine Score Details')\n",
    "plt.xticks(rotation=90)\n",
    "plt.xlabel('Medicine Scores')\n",
    "plt.ylabel('Count Of Scores')\n",
    "plt.show()"
   ]
  },
  {
   "cell_type": "code",
   "execution_count": 73,
   "id": "e24ee6c4",
   "metadata": {},
   "outputs": [
    {
     "name": "stderr",
     "output_type": "stream",
     "text": [
      "C:\\Users\\KAREEM\\AppData\\Local\\Temp\\ipykernel_6516\\1914628860.py:2: SettingWithCopyWarning: \n",
      "A value is trying to be set on a copy of a slice from a DataFrame.\n",
      "Try using .loc[row_indexer,col_indexer] = value instead\n",
      "\n",
      "See the caveats in the documentation: https://pandas.pydata.org/pandas-docs/stable/user_guide/indexing.html#returning-a-view-versus-a-copy\n",
      "  Medicines['tags'] = Medicines['Composition'] + Medicines['Uses']\n"
     ]
    }
   ],
   "source": [
    "# Creating Tags column for medicines\n",
    "Medicines['tags'] = Medicines['Composition'] + Medicines['Uses']"
   ]
  },
  {
   "cell_type": "code",
   "execution_count": 74,
   "id": "55566448",
   "metadata": {},
   "outputs": [
    {
     "data": {
      "text/html": [
       "<div>\n",
       "<style scoped>\n",
       "    .dataframe tbody tr th:only-of-type {\n",
       "        vertical-align: middle;\n",
       "    }\n",
       "\n",
       "    .dataframe tbody tr th {\n",
       "        vertical-align: top;\n",
       "    }\n",
       "\n",
       "    .dataframe thead th {\n",
       "        text-align: right;\n",
       "    }\n",
       "</style>\n",
       "<table border=\"1\" class=\"dataframe\">\n",
       "  <thead>\n",
       "    <tr style=\"text-align: right;\">\n",
       "      <th></th>\n",
       "      <th>Medicine Name</th>\n",
       "      <th>Composition</th>\n",
       "      <th>Uses</th>\n",
       "      <th>Image URL</th>\n",
       "      <th>Manufacturer</th>\n",
       "      <th>Excellent Review %</th>\n",
       "      <th>Average Review %</th>\n",
       "      <th>Poor Review %</th>\n",
       "      <th>Medicine Score</th>\n",
       "      <th>tags</th>\n",
       "    </tr>\n",
       "  </thead>\n",
       "  <tbody>\n",
       "    <tr>\n",
       "      <th>0</th>\n",
       "      <td>Avastin 400mg Injection</td>\n",
       "      <td>[Bevacizumab(400mg)]</td>\n",
       "      <td>[Cancer, of, colon, and, rectum, Non-small, ce...</td>\n",
       "      <td>https://onemg.gumlet.io/l_watermark_346,w_480,...</td>\n",
       "      <td>Roche Products India Pvt Ltd</td>\n",
       "      <td>22</td>\n",
       "      <td>56</td>\n",
       "      <td>22</td>\n",
       "      <td>3.00</td>\n",
       "      <td>[Bevacizumab(400mg), Cancer, of, colon, and, r...</td>\n",
       "    </tr>\n",
       "    <tr>\n",
       "      <th>1</th>\n",
       "      <td>Augmentin 625 Duo Tablet</td>\n",
       "      <td>[Amoxycillin(500mg), ClavulanicAcid(125mg)]</td>\n",
       "      <td>[Treatment, of, Bacterial, infections]</td>\n",
       "      <td>https://onemg.gumlet.io/l_watermark_346,w_480,...</td>\n",
       "      <td>Glaxo SmithKline Pharmaceuticals Ltd</td>\n",
       "      <td>47</td>\n",
       "      <td>35</td>\n",
       "      <td>18</td>\n",
       "      <td>3.58</td>\n",
       "      <td>[Amoxycillin(500mg), ClavulanicAcid(125mg), Tr...</td>\n",
       "    </tr>\n",
       "    <tr>\n",
       "      <th>2</th>\n",
       "      <td>Azithral 500 Tablet</td>\n",
       "      <td>[Azithromycin(500mg)]</td>\n",
       "      <td>[Treatment, of, Bacterial, infections]</td>\n",
       "      <td>https://onemg.gumlet.io/l_watermark_346,w_480,...</td>\n",
       "      <td>Alembic Pharmaceuticals Ltd</td>\n",
       "      <td>39</td>\n",
       "      <td>40</td>\n",
       "      <td>21</td>\n",
       "      <td>3.36</td>\n",
       "      <td>[Azithromycin(500mg), Treatment, of, Bacterial...</td>\n",
       "    </tr>\n",
       "    <tr>\n",
       "      <th>3</th>\n",
       "      <td>Ascoril LS Syrup</td>\n",
       "      <td>[Ambroxol(30mg/5ml), Levosalbutamol(1mg/5ml), ...</td>\n",
       "      <td>[Treatment, of, Cough, with, mucus]</td>\n",
       "      <td>https://onemg.gumlet.io/l_watermark_346,w_480,...</td>\n",
       "      <td>Glenmark Pharmaceuticals Ltd</td>\n",
       "      <td>24</td>\n",
       "      <td>41</td>\n",
       "      <td>35</td>\n",
       "      <td>2.78</td>\n",
       "      <td>[Ambroxol(30mg/5ml), Levosalbutamol(1mg/5ml), ...</td>\n",
       "    </tr>\n",
       "    <tr>\n",
       "      <th>4</th>\n",
       "      <td>Aciloc 150 Tablet</td>\n",
       "      <td>[Ranitidine(150mg)]</td>\n",
       "      <td>[Treatment, of, Gastroesophageal, reflux, dise...</td>\n",
       "      <td>https://onemg.gumlet.io/l_watermark_346,w_480,...</td>\n",
       "      <td>Cadila Pharmaceuticals Ltd</td>\n",
       "      <td>34</td>\n",
       "      <td>37</td>\n",
       "      <td>29</td>\n",
       "      <td>3.10</td>\n",
       "      <td>[Ranitidine(150mg), Treatment, of, Gastroesoph...</td>\n",
       "    </tr>\n",
       "  </tbody>\n",
       "</table>\n",
       "</div>"
      ],
      "text/plain": [
       "              Medicine Name  \\\n",
       "0   Avastin 400mg Injection   \n",
       "1  Augmentin 625 Duo Tablet   \n",
       "2       Azithral 500 Tablet   \n",
       "3          Ascoril LS Syrup   \n",
       "4         Aciloc 150 Tablet   \n",
       "\n",
       "                                         Composition  \\\n",
       "0                               [Bevacizumab(400mg)]   \n",
       "1        [Amoxycillin(500mg), ClavulanicAcid(125mg)]   \n",
       "2                              [Azithromycin(500mg)]   \n",
       "3  [Ambroxol(30mg/5ml), Levosalbutamol(1mg/5ml), ...   \n",
       "4                                [Ranitidine(150mg)]   \n",
       "\n",
       "                                                Uses  \\\n",
       "0  [Cancer, of, colon, and, rectum, Non-small, ce...   \n",
       "1             [Treatment, of, Bacterial, infections]   \n",
       "2             [Treatment, of, Bacterial, infections]   \n",
       "3                [Treatment, of, Cough, with, mucus]   \n",
       "4  [Treatment, of, Gastroesophageal, reflux, dise...   \n",
       "\n",
       "                                           Image URL  \\\n",
       "0  https://onemg.gumlet.io/l_watermark_346,w_480,...   \n",
       "1  https://onemg.gumlet.io/l_watermark_346,w_480,...   \n",
       "2  https://onemg.gumlet.io/l_watermark_346,w_480,...   \n",
       "3  https://onemg.gumlet.io/l_watermark_346,w_480,...   \n",
       "4  https://onemg.gumlet.io/l_watermark_346,w_480,...   \n",
       "\n",
       "                           Manufacturer  Excellent Review %  Average Review %  \\\n",
       "0          Roche Products India Pvt Ltd                  22                56   \n",
       "1  Glaxo SmithKline Pharmaceuticals Ltd                  47                35   \n",
       "2           Alembic Pharmaceuticals Ltd                  39                40   \n",
       "3          Glenmark Pharmaceuticals Ltd                  24                41   \n",
       "4            Cadila Pharmaceuticals Ltd                  34                37   \n",
       "\n",
       "   Poor Review %  Medicine Score  \\\n",
       "0             22            3.00   \n",
       "1             18            3.58   \n",
       "2             21            3.36   \n",
       "3             35            2.78   \n",
       "4             29            3.10   \n",
       "\n",
       "                                                tags  \n",
       "0  [Bevacizumab(400mg), Cancer, of, colon, and, r...  \n",
       "1  [Amoxycillin(500mg), ClavulanicAcid(125mg), Tr...  \n",
       "2  [Azithromycin(500mg), Treatment, of, Bacterial...  \n",
       "3  [Ambroxol(30mg/5ml), Levosalbutamol(1mg/5ml), ...  \n",
       "4  [Ranitidine(150mg), Treatment, of, Gastroesoph...  "
      ]
     },
     "execution_count": 74,
     "metadata": {},
     "output_type": "execute_result"
    }
   ],
   "source": [
    "Medicines.head()"
   ]
  },
  {
   "cell_type": "markdown",
   "id": "b5db1d63",
   "metadata": {},
   "source": [
    "# Creating dataframes with essential columns¶"
   ]
  },
  {
   "cell_type": "code",
   "execution_count": 76,
   "id": "2e8a2f5a",
   "metadata": {},
   "outputs": [],
   "source": [
    "new_df = Medicines[['Medicine Name', 'Uses' ,'Composition', 'tags', 'Manufacturer','Medicine Score', 'Image URL']]"
   ]
  },
  {
   "cell_type": "code",
   "execution_count": 77,
   "id": "50c7b061",
   "metadata": {},
   "outputs": [
    {
     "name": "stderr",
     "output_type": "stream",
     "text": [
      "C:\\Users\\KAREEM\\AppData\\Local\\Temp\\ipykernel_6516\\1840108476.py:2: SettingWithCopyWarning: \n",
      "A value is trying to be set on a copy of a slice from a DataFrame.\n",
      "Try using .loc[row_indexer,col_indexer] = value instead\n",
      "\n",
      "See the caveats in the documentation: https://pandas.pydata.org/pandas-docs/stable/user_guide/indexing.html#returning-a-view-versus-a-copy\n",
      "  new_df['tags'] = new_df['tags'].apply(lambda x:' '.join(x))\n"
     ]
    }
   ],
   "source": [
    "# converting tags column to string form so we can apply stemming\n",
    "new_df['tags'] = new_df['tags'].apply(lambda x:' '.join(x))"
   ]
  },
  {
   "cell_type": "code",
   "execution_count": 78,
   "id": "495755dc",
   "metadata": {},
   "outputs": [
    {
     "data": {
      "text/html": [
       "<div>\n",
       "<style scoped>\n",
       "    .dataframe tbody tr th:only-of-type {\n",
       "        vertical-align: middle;\n",
       "    }\n",
       "\n",
       "    .dataframe tbody tr th {\n",
       "        vertical-align: top;\n",
       "    }\n",
       "\n",
       "    .dataframe thead th {\n",
       "        text-align: right;\n",
       "    }\n",
       "</style>\n",
       "<table border=\"1\" class=\"dataframe\">\n",
       "  <thead>\n",
       "    <tr style=\"text-align: right;\">\n",
       "      <th></th>\n",
       "      <th>Medicine Name</th>\n",
       "      <th>Uses</th>\n",
       "      <th>Composition</th>\n",
       "      <th>tags</th>\n",
       "      <th>Manufacturer</th>\n",
       "      <th>Medicine Score</th>\n",
       "      <th>Image URL</th>\n",
       "    </tr>\n",
       "  </thead>\n",
       "  <tbody>\n",
       "    <tr>\n",
       "      <th>0</th>\n",
       "      <td>Avastin 400mg Injection</td>\n",
       "      <td>[Cancer, of, colon, and, rectum, Non-small, ce...</td>\n",
       "      <td>[Bevacizumab(400mg)]</td>\n",
       "      <td>Bevacizumab(400mg) Cancer of colon and rectum ...</td>\n",
       "      <td>Roche Products India Pvt Ltd</td>\n",
       "      <td>3.00</td>\n",
       "      <td>https://onemg.gumlet.io/l_watermark_346,w_480,...</td>\n",
       "    </tr>\n",
       "    <tr>\n",
       "      <th>1</th>\n",
       "      <td>Augmentin 625 Duo Tablet</td>\n",
       "      <td>[Treatment, of, Bacterial, infections]</td>\n",
       "      <td>[Amoxycillin(500mg), ClavulanicAcid(125mg)]</td>\n",
       "      <td>Amoxycillin(500mg) ClavulanicAcid(125mg) Treat...</td>\n",
       "      <td>Glaxo SmithKline Pharmaceuticals Ltd</td>\n",
       "      <td>3.58</td>\n",
       "      <td>https://onemg.gumlet.io/l_watermark_346,w_480,...</td>\n",
       "    </tr>\n",
       "    <tr>\n",
       "      <th>2</th>\n",
       "      <td>Azithral 500 Tablet</td>\n",
       "      <td>[Treatment, of, Bacterial, infections]</td>\n",
       "      <td>[Azithromycin(500mg)]</td>\n",
       "      <td>Azithromycin(500mg) Treatment of Bacterial inf...</td>\n",
       "      <td>Alembic Pharmaceuticals Ltd</td>\n",
       "      <td>3.36</td>\n",
       "      <td>https://onemg.gumlet.io/l_watermark_346,w_480,...</td>\n",
       "    </tr>\n",
       "    <tr>\n",
       "      <th>3</th>\n",
       "      <td>Ascoril LS Syrup</td>\n",
       "      <td>[Treatment, of, Cough, with, mucus]</td>\n",
       "      <td>[Ambroxol(30mg/5ml), Levosalbutamol(1mg/5ml), ...</td>\n",
       "      <td>Ambroxol(30mg/5ml) Levosalbutamol(1mg/5ml) Gua...</td>\n",
       "      <td>Glenmark Pharmaceuticals Ltd</td>\n",
       "      <td>2.78</td>\n",
       "      <td>https://onemg.gumlet.io/l_watermark_346,w_480,...</td>\n",
       "    </tr>\n",
       "    <tr>\n",
       "      <th>4</th>\n",
       "      <td>Aciloc 150 Tablet</td>\n",
       "      <td>[Treatment, of, Gastroesophageal, reflux, dise...</td>\n",
       "      <td>[Ranitidine(150mg)]</td>\n",
       "      <td>Ranitidine(150mg) Treatment of Gastroesophagea...</td>\n",
       "      <td>Cadila Pharmaceuticals Ltd</td>\n",
       "      <td>3.10</td>\n",
       "      <td>https://onemg.gumlet.io/l_watermark_346,w_480,...</td>\n",
       "    </tr>\n",
       "  </tbody>\n",
       "</table>\n",
       "</div>"
      ],
      "text/plain": [
       "              Medicine Name  \\\n",
       "0   Avastin 400mg Injection   \n",
       "1  Augmentin 625 Duo Tablet   \n",
       "2       Azithral 500 Tablet   \n",
       "3          Ascoril LS Syrup   \n",
       "4         Aciloc 150 Tablet   \n",
       "\n",
       "                                                Uses  \\\n",
       "0  [Cancer, of, colon, and, rectum, Non-small, ce...   \n",
       "1             [Treatment, of, Bacterial, infections]   \n",
       "2             [Treatment, of, Bacterial, infections]   \n",
       "3                [Treatment, of, Cough, with, mucus]   \n",
       "4  [Treatment, of, Gastroesophageal, reflux, dise...   \n",
       "\n",
       "                                         Composition  \\\n",
       "0                               [Bevacizumab(400mg)]   \n",
       "1        [Amoxycillin(500mg), ClavulanicAcid(125mg)]   \n",
       "2                              [Azithromycin(500mg)]   \n",
       "3  [Ambroxol(30mg/5ml), Levosalbutamol(1mg/5ml), ...   \n",
       "4                                [Ranitidine(150mg)]   \n",
       "\n",
       "                                                tags  \\\n",
       "0  Bevacizumab(400mg) Cancer of colon and rectum ...   \n",
       "1  Amoxycillin(500mg) ClavulanicAcid(125mg) Treat...   \n",
       "2  Azithromycin(500mg) Treatment of Bacterial inf...   \n",
       "3  Ambroxol(30mg/5ml) Levosalbutamol(1mg/5ml) Gua...   \n",
       "4  Ranitidine(150mg) Treatment of Gastroesophagea...   \n",
       "\n",
       "                           Manufacturer  Medicine Score  \\\n",
       "0          Roche Products India Pvt Ltd            3.00   \n",
       "1  Glaxo SmithKline Pharmaceuticals Ltd            3.58   \n",
       "2           Alembic Pharmaceuticals Ltd            3.36   \n",
       "3          Glenmark Pharmaceuticals Ltd            2.78   \n",
       "4            Cadila Pharmaceuticals Ltd            3.10   \n",
       "\n",
       "                                           Image URL  \n",
       "0  https://onemg.gumlet.io/l_watermark_346,w_480,...  \n",
       "1  https://onemg.gumlet.io/l_watermark_346,w_480,...  \n",
       "2  https://onemg.gumlet.io/l_watermark_346,w_480,...  \n",
       "3  https://onemg.gumlet.io/l_watermark_346,w_480,...  \n",
       "4  https://onemg.gumlet.io/l_watermark_346,w_480,...  "
      ]
     },
     "execution_count": 78,
     "metadata": {},
     "output_type": "execute_result"
    }
   ],
   "source": [
    "new_df.head()"
   ]
  },
  {
   "cell_type": "code",
   "execution_count": 79,
   "id": "7c416b7f",
   "metadata": {},
   "outputs": [
    {
     "data": {
      "text/plain": [
       "'Amoxycillin(500mg) ClavulanicAcid(125mg) Treatment of Bacterial infections'"
      ]
     },
     "execution_count": 79,
     "metadata": {},
     "output_type": "execute_result"
    }
   ],
   "source": [
    "new_df['tags'][1]"
   ]
  },
  {
   "cell_type": "code",
   "execution_count": 80,
   "id": "aa4c12c4",
   "metadata": {},
   "outputs": [
    {
     "name": "stderr",
     "output_type": "stream",
     "text": [
      "C:\\Users\\KAREEM\\AppData\\Local\\Temp\\ipykernel_6516\\1802928144.py:2: SettingWithCopyWarning: \n",
      "A value is trying to be set on a copy of a slice from a DataFrame.\n",
      "Try using .loc[row_indexer,col_indexer] = value instead\n",
      "\n",
      "See the caveats in the documentation: https://pandas.pydata.org/pandas-docs/stable/user_guide/indexing.html#returning-a-view-versus-a-copy\n",
      "  new_df['tags'] = new_df['tags'].apply(lambda x:x.lower())\n"
     ]
    }
   ],
   "source": [
    "# converting tags column to lowerr case\n",
    "new_df['tags'] = new_df['tags'].apply(lambda x:x.lower())"
   ]
  },
  {
   "cell_type": "code",
   "execution_count": 81,
   "id": "daf0378f",
   "metadata": {},
   "outputs": [
    {
     "data": {
      "text/html": [
       "<div>\n",
       "<style scoped>\n",
       "    .dataframe tbody tr th:only-of-type {\n",
       "        vertical-align: middle;\n",
       "    }\n",
       "\n",
       "    .dataframe tbody tr th {\n",
       "        vertical-align: top;\n",
       "    }\n",
       "\n",
       "    .dataframe thead th {\n",
       "        text-align: right;\n",
       "    }\n",
       "</style>\n",
       "<table border=\"1\" class=\"dataframe\">\n",
       "  <thead>\n",
       "    <tr style=\"text-align: right;\">\n",
       "      <th></th>\n",
       "      <th>Medicine Name</th>\n",
       "      <th>Uses</th>\n",
       "      <th>Composition</th>\n",
       "      <th>tags</th>\n",
       "      <th>Manufacturer</th>\n",
       "      <th>Medicine Score</th>\n",
       "      <th>Image URL</th>\n",
       "    </tr>\n",
       "  </thead>\n",
       "  <tbody>\n",
       "    <tr>\n",
       "      <th>0</th>\n",
       "      <td>Avastin 400mg Injection</td>\n",
       "      <td>[Cancer, of, colon, and, rectum, Non-small, ce...</td>\n",
       "      <td>[Bevacizumab(400mg)]</td>\n",
       "      <td>bevacizumab(400mg) cancer of colon and rectum ...</td>\n",
       "      <td>Roche Products India Pvt Ltd</td>\n",
       "      <td>3.00</td>\n",
       "      <td>https://onemg.gumlet.io/l_watermark_346,w_480,...</td>\n",
       "    </tr>\n",
       "    <tr>\n",
       "      <th>1</th>\n",
       "      <td>Augmentin 625 Duo Tablet</td>\n",
       "      <td>[Treatment, of, Bacterial, infections]</td>\n",
       "      <td>[Amoxycillin(500mg), ClavulanicAcid(125mg)]</td>\n",
       "      <td>amoxycillin(500mg) clavulanicacid(125mg) treat...</td>\n",
       "      <td>Glaxo SmithKline Pharmaceuticals Ltd</td>\n",
       "      <td>3.58</td>\n",
       "      <td>https://onemg.gumlet.io/l_watermark_346,w_480,...</td>\n",
       "    </tr>\n",
       "    <tr>\n",
       "      <th>2</th>\n",
       "      <td>Azithral 500 Tablet</td>\n",
       "      <td>[Treatment, of, Bacterial, infections]</td>\n",
       "      <td>[Azithromycin(500mg)]</td>\n",
       "      <td>azithromycin(500mg) treatment of bacterial inf...</td>\n",
       "      <td>Alembic Pharmaceuticals Ltd</td>\n",
       "      <td>3.36</td>\n",
       "      <td>https://onemg.gumlet.io/l_watermark_346,w_480,...</td>\n",
       "    </tr>\n",
       "    <tr>\n",
       "      <th>3</th>\n",
       "      <td>Ascoril LS Syrup</td>\n",
       "      <td>[Treatment, of, Cough, with, mucus]</td>\n",
       "      <td>[Ambroxol(30mg/5ml), Levosalbutamol(1mg/5ml), ...</td>\n",
       "      <td>ambroxol(30mg/5ml) levosalbutamol(1mg/5ml) gua...</td>\n",
       "      <td>Glenmark Pharmaceuticals Ltd</td>\n",
       "      <td>2.78</td>\n",
       "      <td>https://onemg.gumlet.io/l_watermark_346,w_480,...</td>\n",
       "    </tr>\n",
       "    <tr>\n",
       "      <th>4</th>\n",
       "      <td>Aciloc 150 Tablet</td>\n",
       "      <td>[Treatment, of, Gastroesophageal, reflux, dise...</td>\n",
       "      <td>[Ranitidine(150mg)]</td>\n",
       "      <td>ranitidine(150mg) treatment of gastroesophagea...</td>\n",
       "      <td>Cadila Pharmaceuticals Ltd</td>\n",
       "      <td>3.10</td>\n",
       "      <td>https://onemg.gumlet.io/l_watermark_346,w_480,...</td>\n",
       "    </tr>\n",
       "  </tbody>\n",
       "</table>\n",
       "</div>"
      ],
      "text/plain": [
       "              Medicine Name  \\\n",
       "0   Avastin 400mg Injection   \n",
       "1  Augmentin 625 Duo Tablet   \n",
       "2       Azithral 500 Tablet   \n",
       "3          Ascoril LS Syrup   \n",
       "4         Aciloc 150 Tablet   \n",
       "\n",
       "                                                Uses  \\\n",
       "0  [Cancer, of, colon, and, rectum, Non-small, ce...   \n",
       "1             [Treatment, of, Bacterial, infections]   \n",
       "2             [Treatment, of, Bacterial, infections]   \n",
       "3                [Treatment, of, Cough, with, mucus]   \n",
       "4  [Treatment, of, Gastroesophageal, reflux, dise...   \n",
       "\n",
       "                                         Composition  \\\n",
       "0                               [Bevacizumab(400mg)]   \n",
       "1        [Amoxycillin(500mg), ClavulanicAcid(125mg)]   \n",
       "2                              [Azithromycin(500mg)]   \n",
       "3  [Ambroxol(30mg/5ml), Levosalbutamol(1mg/5ml), ...   \n",
       "4                                [Ranitidine(150mg)]   \n",
       "\n",
       "                                                tags  \\\n",
       "0  bevacizumab(400mg) cancer of colon and rectum ...   \n",
       "1  amoxycillin(500mg) clavulanicacid(125mg) treat...   \n",
       "2  azithromycin(500mg) treatment of bacterial inf...   \n",
       "3  ambroxol(30mg/5ml) levosalbutamol(1mg/5ml) gua...   \n",
       "4  ranitidine(150mg) treatment of gastroesophagea...   \n",
       "\n",
       "                           Manufacturer  Medicine Score  \\\n",
       "0          Roche Products India Pvt Ltd            3.00   \n",
       "1  Glaxo SmithKline Pharmaceuticals Ltd            3.58   \n",
       "2           Alembic Pharmaceuticals Ltd            3.36   \n",
       "3          Glenmark Pharmaceuticals Ltd            2.78   \n",
       "4            Cadila Pharmaceuticals Ltd            3.10   \n",
       "\n",
       "                                           Image URL  \n",
       "0  https://onemg.gumlet.io/l_watermark_346,w_480,...  \n",
       "1  https://onemg.gumlet.io/l_watermark_346,w_480,...  \n",
       "2  https://onemg.gumlet.io/l_watermark_346,w_480,...  \n",
       "3  https://onemg.gumlet.io/l_watermark_346,w_480,...  \n",
       "4  https://onemg.gumlet.io/l_watermark_346,w_480,...  "
      ]
     },
     "execution_count": 81,
     "metadata": {},
     "output_type": "execute_result"
    }
   ],
   "source": [
    "new_df.head()"
   ]
  },
  {
   "cell_type": "code",
   "execution_count": 82,
   "id": "54e14695",
   "metadata": {},
   "outputs": [
    {
     "name": "stderr",
     "output_type": "stream",
     "text": [
      "C:\\Users\\KAREEM\\AppData\\Local\\Temp\\ipykernel_6516\\2788549837.py:1: SettingWithCopyWarning: \n",
      "A value is trying to be set on a copy of a slice from a DataFrame\n",
      "\n",
      "See the caveats in the documentation: https://pandas.pydata.org/pandas-docs/stable/user_guide/indexing.html#returning-a-view-versus-a-copy\n",
      "  new_df.rename(columns = {'Medicine Name':'Name', }, inplace = True)\n",
      "C:\\Users\\KAREEM\\AppData\\Local\\Temp\\ipykernel_6516\\2788549837.py:2: SettingWithCopyWarning: \n",
      "A value is trying to be set on a copy of a slice from a DataFrame\n",
      "\n",
      "See the caveats in the documentation: https://pandas.pydata.org/pandas-docs/stable/user_guide/indexing.html#returning-a-view-versus-a-copy\n",
      "  new_df.rename(columns = {'Medicine Score':'Score'}, inplace = True)\n",
      "C:\\Users\\KAREEM\\AppData\\Local\\Temp\\ipykernel_6516\\2788549837.py:3: SettingWithCopyWarning: \n",
      "A value is trying to be set on a copy of a slice from a DataFrame\n",
      "\n",
      "See the caveats in the documentation: https://pandas.pydata.org/pandas-docs/stable/user_guide/indexing.html#returning-a-view-versus-a-copy\n",
      "  new_df.rename(columns = {'Image URL':'img_url', }, inplace = True)\n"
     ]
    }
   ],
   "source": [
    "new_df.rename(columns = {'Medicine Name':'Name', }, inplace = True)\n",
    "new_df.rename(columns = {'Medicine Score':'Score'}, inplace = True)\n",
    "new_df.rename(columns = {'Image URL':'img_url', }, inplace = True)"
   ]
  },
  {
   "cell_type": "code",
   "execution_count": 83,
   "id": "12c98941",
   "metadata": {},
   "outputs": [
    {
     "data": {
      "text/html": [
       "<div>\n",
       "<style scoped>\n",
       "    .dataframe tbody tr th:only-of-type {\n",
       "        vertical-align: middle;\n",
       "    }\n",
       "\n",
       "    .dataframe tbody tr th {\n",
       "        vertical-align: top;\n",
       "    }\n",
       "\n",
       "    .dataframe thead th {\n",
       "        text-align: right;\n",
       "    }\n",
       "</style>\n",
       "<table border=\"1\" class=\"dataframe\">\n",
       "  <thead>\n",
       "    <tr style=\"text-align: right;\">\n",
       "      <th></th>\n",
       "      <th>Name</th>\n",
       "      <th>Uses</th>\n",
       "      <th>Composition</th>\n",
       "      <th>tags</th>\n",
       "      <th>Manufacturer</th>\n",
       "      <th>Score</th>\n",
       "      <th>img_url</th>\n",
       "    </tr>\n",
       "  </thead>\n",
       "  <tbody>\n",
       "    <tr>\n",
       "      <th>0</th>\n",
       "      <td>Avastin 400mg Injection</td>\n",
       "      <td>[Cancer, of, colon, and, rectum, Non-small, ce...</td>\n",
       "      <td>[Bevacizumab(400mg)]</td>\n",
       "      <td>bevacizumab(400mg) cancer of colon and rectum ...</td>\n",
       "      <td>Roche Products India Pvt Ltd</td>\n",
       "      <td>3.00</td>\n",
       "      <td>https://onemg.gumlet.io/l_watermark_346,w_480,...</td>\n",
       "    </tr>\n",
       "    <tr>\n",
       "      <th>1</th>\n",
       "      <td>Augmentin 625 Duo Tablet</td>\n",
       "      <td>[Treatment, of, Bacterial, infections]</td>\n",
       "      <td>[Amoxycillin(500mg), ClavulanicAcid(125mg)]</td>\n",
       "      <td>amoxycillin(500mg) clavulanicacid(125mg) treat...</td>\n",
       "      <td>Glaxo SmithKline Pharmaceuticals Ltd</td>\n",
       "      <td>3.58</td>\n",
       "      <td>https://onemg.gumlet.io/l_watermark_346,w_480,...</td>\n",
       "    </tr>\n",
       "    <tr>\n",
       "      <th>2</th>\n",
       "      <td>Azithral 500 Tablet</td>\n",
       "      <td>[Treatment, of, Bacterial, infections]</td>\n",
       "      <td>[Azithromycin(500mg)]</td>\n",
       "      <td>azithromycin(500mg) treatment of bacterial inf...</td>\n",
       "      <td>Alembic Pharmaceuticals Ltd</td>\n",
       "      <td>3.36</td>\n",
       "      <td>https://onemg.gumlet.io/l_watermark_346,w_480,...</td>\n",
       "    </tr>\n",
       "    <tr>\n",
       "      <th>3</th>\n",
       "      <td>Ascoril LS Syrup</td>\n",
       "      <td>[Treatment, of, Cough, with, mucus]</td>\n",
       "      <td>[Ambroxol(30mg/5ml), Levosalbutamol(1mg/5ml), ...</td>\n",
       "      <td>ambroxol(30mg/5ml) levosalbutamol(1mg/5ml) gua...</td>\n",
       "      <td>Glenmark Pharmaceuticals Ltd</td>\n",
       "      <td>2.78</td>\n",
       "      <td>https://onemg.gumlet.io/l_watermark_346,w_480,...</td>\n",
       "    </tr>\n",
       "    <tr>\n",
       "      <th>4</th>\n",
       "      <td>Aciloc 150 Tablet</td>\n",
       "      <td>[Treatment, of, Gastroesophageal, reflux, dise...</td>\n",
       "      <td>[Ranitidine(150mg)]</td>\n",
       "      <td>ranitidine(150mg) treatment of gastroesophagea...</td>\n",
       "      <td>Cadila Pharmaceuticals Ltd</td>\n",
       "      <td>3.10</td>\n",
       "      <td>https://onemg.gumlet.io/l_watermark_346,w_480,...</td>\n",
       "    </tr>\n",
       "  </tbody>\n",
       "</table>\n",
       "</div>"
      ],
      "text/plain": [
       "                       Name  \\\n",
       "0   Avastin 400mg Injection   \n",
       "1  Augmentin 625 Duo Tablet   \n",
       "2       Azithral 500 Tablet   \n",
       "3          Ascoril LS Syrup   \n",
       "4         Aciloc 150 Tablet   \n",
       "\n",
       "                                                Uses  \\\n",
       "0  [Cancer, of, colon, and, rectum, Non-small, ce...   \n",
       "1             [Treatment, of, Bacterial, infections]   \n",
       "2             [Treatment, of, Bacterial, infections]   \n",
       "3                [Treatment, of, Cough, with, mucus]   \n",
       "4  [Treatment, of, Gastroesophageal, reflux, dise...   \n",
       "\n",
       "                                         Composition  \\\n",
       "0                               [Bevacizumab(400mg)]   \n",
       "1        [Amoxycillin(500mg), ClavulanicAcid(125mg)]   \n",
       "2                              [Azithromycin(500mg)]   \n",
       "3  [Ambroxol(30mg/5ml), Levosalbutamol(1mg/5ml), ...   \n",
       "4                                [Ranitidine(150mg)]   \n",
       "\n",
       "                                                tags  \\\n",
       "0  bevacizumab(400mg) cancer of colon and rectum ...   \n",
       "1  amoxycillin(500mg) clavulanicacid(125mg) treat...   \n",
       "2  azithromycin(500mg) treatment of bacterial inf...   \n",
       "3  ambroxol(30mg/5ml) levosalbutamol(1mg/5ml) gua...   \n",
       "4  ranitidine(150mg) treatment of gastroesophagea...   \n",
       "\n",
       "                           Manufacturer  Score  \\\n",
       "0          Roche Products India Pvt Ltd   3.00   \n",
       "1  Glaxo SmithKline Pharmaceuticals Ltd   3.58   \n",
       "2           Alembic Pharmaceuticals Ltd   3.36   \n",
       "3          Glenmark Pharmaceuticals Ltd   2.78   \n",
       "4            Cadila Pharmaceuticals Ltd   3.10   \n",
       "\n",
       "                                             img_url  \n",
       "0  https://onemg.gumlet.io/l_watermark_346,w_480,...  \n",
       "1  https://onemg.gumlet.io/l_watermark_346,w_480,...  \n",
       "2  https://onemg.gumlet.io/l_watermark_346,w_480,...  \n",
       "3  https://onemg.gumlet.io/l_watermark_346,w_480,...  \n",
       "4  https://onemg.gumlet.io/l_watermark_346,w_480,...  "
      ]
     },
     "execution_count": 83,
     "metadata": {},
     "output_type": "execute_result"
    }
   ],
   "source": [
    "new_df.head()"
   ]
  },
  {
   "cell_type": "markdown",
   "id": "03a02b08",
   "metadata": {},
   "source": [
    "# Applying Stemming process"
   ]
  },
  {
   "cell_type": "code",
   "execution_count": 84,
   "id": "f369c60a",
   "metadata": {},
   "outputs": [],
   "source": [
    "import nltk\n",
    "from nltk.stem.porter import PorterStemmer\n",
    "ps = PorterStemmer()"
   ]
  },
  {
   "cell_type": "code",
   "execution_count": 87,
   "id": "4650c941",
   "metadata": {},
   "outputs": [],
   "source": [
    "def stem(text):\n",
    "    y = []\n",
    "    for i in text.split():\n",
    "        y.append(ps.stem(i))\n",
    "        \n",
    "    return \" \".join(y)"
   ]
  },
  {
   "cell_type": "code",
   "execution_count": 88,
   "id": "e93d826e",
   "metadata": {},
   "outputs": [
    {
     "name": "stderr",
     "output_type": "stream",
     "text": [
      "C:\\Users\\KAREEM\\AppData\\Local\\Temp\\ipykernel_6516\\3213734980.py:1: SettingWithCopyWarning: \n",
      "A value is trying to be set on a copy of a slice from a DataFrame.\n",
      "Try using .loc[row_indexer,col_indexer] = value instead\n",
      "\n",
      "See the caveats in the documentation: https://pandas.pydata.org/pandas-docs/stable/user_guide/indexing.html#returning-a-view-versus-a-copy\n",
      "  new_df['tags'] = new_df['tags'].apply(stem)\n"
     ]
    }
   ],
   "source": [
    "new_df['tags'] = new_df['tags'].apply(stem)"
   ]
  },
  {
   "cell_type": "markdown",
   "id": "712e8bf5",
   "metadata": {},
   "source": [
    "# Features vectorization"
   ]
  },
  {
   "cell_type": "code",
   "execution_count": 90,
   "id": "a55b9923",
   "metadata": {},
   "outputs": [],
   "source": [
    "from sklearn.feature_extraction.text import CountVectorizer\n",
    "cv = CountVectorizer(max_features = 5000, stop_words='english')"
   ]
  },
  {
   "cell_type": "code",
   "execution_count": 92,
   "id": "c24b6bd8",
   "metadata": {},
   "outputs": [],
   "source": [
    "vector  = cv.fit_transform(new_df['tags']).toarray()"
   ]
  },
  {
   "cell_type": "code",
   "execution_count": 93,
   "id": "3e927112",
   "metadata": {},
   "outputs": [
    {
     "data": {
      "text/plain": [
       "2137"
      ]
     },
     "execution_count": 93,
     "metadata": {},
     "output_type": "execute_result"
    }
   ],
   "source": [
    "len(vector[0])"
   ]
  },
  {
   "cell_type": "code",
   "execution_count": 94,
   "id": "8e515155",
   "metadata": {},
   "outputs": [
    {
     "data": {
      "text/plain": [
       "2137"
      ]
     },
     "execution_count": 94,
     "metadata": {},
     "output_type": "execute_result"
    }
   ],
   "source": [
    "len(cv.get_feature_names_out())"
   ]
  },
  {
   "cell_type": "code",
   "execution_count": 95,
   "id": "a566318e",
   "metadata": {},
   "outputs": [],
   "source": [
    "from sklearn.metrics.pairwise import cosine_similarity"
   ]
  },
  {
   "cell_type": "code",
   "execution_count": 96,
   "id": "a2a58563",
   "metadata": {},
   "outputs": [],
   "source": [
    "similarity = cosine_similarity(vector)"
   ]
  },
  {
   "cell_type": "code",
   "execution_count": 97,
   "id": "2b5651c9",
   "metadata": {},
   "outputs": [
    {
     "data": {
      "text/plain": [
       "(11740, 11740)"
      ]
     },
     "execution_count": 97,
     "metadata": {},
     "output_type": "execute_result"
    }
   ],
   "source": [
    "similarity.shape"
   ]
  },
  {
   "cell_type": "code",
   "execution_count": 98,
   "id": "60749430",
   "metadata": {},
   "outputs": [
    {
     "data": {
      "text/plain": [
       "[(3274, 0.8111071056538128),\n",
       " (6682, 0.6936879756192961),\n",
       " (1730, 0.6847623832623259),\n",
       " (1731, 0.6847623832623259),\n",
       " (11665, 0.6847623832623259)]"
      ]
     },
     "execution_count": 98,
     "metadata": {},
     "output_type": "execute_result"
    }
   ],
   "source": [
    "sorted(list(enumerate(similarity[0])), reverse = True, key = lambda x:x[1])[1:6]"
   ]
  },
  {
   "cell_type": "markdown",
   "id": "941f4cf4",
   "metadata": {},
   "source": [
    "# In this project we recommend medicines in three ways\n",
    " - Based on Medicine Name\n",
    " - Based on Medicine Composition\n",
    " - Based on Disease"
   ]
  },
  {
   "cell_type": "code",
   "execution_count": 100,
   "id": "f67b18c6",
   "metadata": {},
   "outputs": [],
   "source": [
    "# Recommendations based on medicine name\n",
    "def recommend(medicine):\n",
    "    recommended_medicine = []\n",
    "    med_index = new_df[new_df['Name'] == medicine].index[0]\n",
    "    distances = similarity[med_index]\n",
    "    med_list = sorted(list(enumerate(distances)), reverse = True, key = lambda x:x[1])[1:51]\n",
    "    for i in med_list:\n",
    "        recommended_medicine.append([new_df.iloc[i[0]].Name, new_df.iloc[i[0]].Score])\n",
    "\n",
    "    recommendations = sorted(recommended_medicine,reverse = True, key = lambda x:x[1])\n",
    "    seen = set()\n",
    "    recommended_medicines = [x for x in recommendations if tuple(x) not in seen and not seen.add(tuple(x))]\n",
    "    \n",
    "    for i in recommended_medicines:\n",
    "        print(i)\n",
    "    "
   ]
  },
  {
   "cell_type": "code",
   "execution_count": 101,
   "id": "53bf1e15",
   "metadata": {},
   "outputs": [
    {
     "name": "stdout",
     "output_type": "stream",
     "text": [
      "['Azithral 500mg Injection', 5.0]\n",
      "['Azithral Eye Drop', 4.66]\n",
      "['Azee 1000 Tablet', 4.66]\n",
      "['Aziquest 500mg Tablet', 4.34]\n",
      "['Azee 100mg Tablet DT', 4.34]\n",
      "['Azithral KidTab', 4.34]\n",
      "['Zatura 500 Tablet', 4.16]\n",
      "['Azee 250 Tablet', 3.98]\n",
      "['Aziwok 600 Tablet', 3.88]\n",
      "['Azimax 250 Tablet', 3.68]\n",
      "['Azimax 500 Tablet', 3.66]\n",
      "['Azee 250 Tablet', 3.64]\n",
      "['Azee 500 Tablet', 3.52]\n",
      "['Altacef 500 Tablet', 3.4]\n",
      "['Ibithral 500mg Tablet', 3.38]\n",
      "['Zithrolect 500 Tablet', 3.34]\n",
      "['Alevo 500 Tablet', 3.34]\n",
      "['Hhazi 500 Tablet', 3.32]\n",
      "['Uthral 500mg Tablet', 3.32]\n",
      "['ATM 500 Tablet', 3.28]\n",
      "['Azikem 500mg Tablet', 3.26]\n",
      "['Azee 500 Tablet', 3.24]\n",
      "['Trulimax 500mg Tablet', 3.22]\n",
      "['Zathrin 500 Tablet', 3.22]\n",
      "['Azax 500 Tablet', 3.16]\n",
      "['Almox 500 Capsule', 3.12]\n",
      "['Aziwok 500 Tablet', 3.04]\n",
      "['Azicip 500 Tablet', 3.02]\n",
      "['Althrocin 500 Tablet', 3.0]\n",
      "['Azax 250 Tablet', 3.0]\n",
      "['Azifast 250 Tablet', 3.0]\n",
      "['Azifast 500 Tablet', 2.98]\n",
      "['Azimax 500 Tablet', 2.96]\n",
      "['Zady 500 Tablet', 2.86]\n",
      "['Azibact 500 Tablet', 2.84]\n",
      "['Azithral Eye Ointment', 2.78]\n",
      "['Alciflox 500mg Tablet', 2.78]\n",
      "['Azifast Gel', 2.76]\n",
      "['Zithium 500 Tablet', 2.74]\n",
      "['Azicip 250 Tablet', 2.74]\n",
      "['Azibest 500mg Tablet', 2.68]\n",
      "['Aziwok 250 Tablet', 2.62]\n",
      "['Azivent 500 Tablet', 2.42]\n",
      "['Aziwin 500 Tablet', 2.34]\n",
      "['Zithrocin 500mg Tablet', 2.34]\n",
      "['Azilide 500 Tablet', 2.16]\n",
      "['Zeethrom 500 Tablet', 2.1]\n",
      "['Aziclass 200mg Syrup', 2.0]\n",
      "['Ecothral 500mg Tablet', 1.84]\n",
      "['Macrozac 500 Tablet', 1.0]\n"
     ]
    }
   ],
   "source": [
    "recommend('Azithral 500 Tablet')\n",
    "# Here output in in the form of medicine name and it's score"
   ]
  },
  {
   "cell_type": "code",
   "execution_count": 102,
   "id": "cb40e30b",
   "metadata": {},
   "outputs": [],
   "source": [
    "# Recommendations based on medicine composition\n",
    "\n",
    "def recommend_medicine(composition_queries):\n",
    "    recommendations = []\n",
    "\n",
    "    # Check for medicines that contain all specified compositions\n",
    "    for index, row in new_df.iterrows():\n",
    "        composition = row['Composition']\n",
    "        if isinstance(composition, list):\n",
    "            # Check if all composition items are present in the medicine\n",
    "            if all(query.lower() in ' '.join(composition).lower() for query in composition_queries):\n",
    "                recommendations.append([row['Name'],  row['Score']])\n",
    "\n",
    "   \n",
    "\n",
    "    if recommendations:\n",
    "        # Remove duplicates and return the recommendations\n",
    "        medicine_list = sorted(recommendations, reverse = True, key = lambda x:x[1])[:50]\n",
    "        seen = set()\n",
    "        recommended_medicines = [x for x in medicine_list if tuple(x) not in seen and not seen.add(tuple(x))]\n",
    "        return recommended_medicines\n",
    "    else:\n",
    "        return \"No matching medicines found.\"\n",
    "\n",
    "# Example usage:\n",
    "# recommended_medicines = recommend_medicine([\"Amoxycillin(500mg)\", \"ClavulanicAcid(125mg)\"])\n",
    "# print(recommended_medicines)"
   ]
  },
  {
   "cell_type": "code",
   "execution_count": 104,
   "id": "88df7119",
   "metadata": {},
   "outputs": [
    {
     "data": {
      "text/plain": [
       "[['Evoxil CV 500mg/125mg Tablet', 5.0],\n",
       " ['Lmx Forte 500mg/125mg Tablet', 5.0],\n",
       " ['Goldclav 625 Tablet', 4.34],\n",
       " ['Lacom-CV 625 Tablet', 4.34],\n",
       " ['Oro-CV 625 Tablet', 4.12],\n",
       " ['Erox CV 625 Tablet', 4.0],\n",
       " ['Tresmox CV 500mg/125mg Tablet', 3.88],\n",
       " ['Zovax CV 625 Tablet', 3.66],\n",
       " ['Bactoclav 625 Tablet', 3.62],\n",
       " ['Novamox CV 625mg Tablet', 3.6],\n",
       " ['Xoclave 625 Tablet', 3.6],\n",
       " ['Augmentin 625 Duo Tablet', 3.58],\n",
       " ['Advent 625 Tablet', 3.56],\n",
       " ['Acuclav 625 Tablet', 3.52],\n",
       " ['Polyclav 625mg Tablet', 3.52],\n",
       " ['Pexoclav 625 Tablet', 3.46],\n",
       " ['Rapiclav 625 Tablet', 3.44],\n",
       " ['Novaclav 625 Tablet', 3.38],\n",
       " ['Moxikind-CV 625 Tablet', 3.34],\n",
       " ['Amoxyclav 625 Tablet', 3.3],\n",
       " ['Sensiclav 625 Tablet', 3.28],\n",
       " ['Augpen 625 BID Tablet', 3.16],\n",
       " ['Hhamclav 625 Tablet', 3.16],\n",
       " ['Penclav 625 Tablet', 3.14],\n",
       " ['Mega-CV 625 Tablet', 3.06],\n",
       " ['Mox CV 625 Tablet', 3.06],\n",
       " ['Mpx-CV 625 Tablet', 3.0],\n",
       " ['Miliclav Tablet', 3.0],\n",
       " ['Moxiforce-CV 625 Tablet', 2.92],\n",
       " ['Moxclav 625 Tablet', 2.88],\n",
       " ['Augpen LB 625 Tablet', 2.82],\n",
       " ['Ampoxin-CV 500mg/125mg Tablet', 2.78],\n",
       " ['Megamentin 625 Tablet', 2.72],\n",
       " ['Symbiotik XL 625 Tablet', 2.66],\n",
       " ['Indclav 625 Tablet', 2.56],\n",
       " ['Omniclav 625 Tablet', 2.46],\n",
       " ['Ampilox CV 500 mg/125 mg Tablet', 2.1],\n",
       " ['Novaclav 625 Tablet', 2.0],\n",
       " ['Starclav 625 Tablet', 1.66],\n",
       " ['Amclaid 625 Tablet', 1.0],\n",
       " ['Princiclav 500 mg/125 mg Tablet', 1.0]]"
      ]
     },
     "execution_count": 104,
     "metadata": {},
     "output_type": "execute_result"
    }
   ],
   "source": [
    "recommend_medicine([\"Amoxycillin(500mg)\", \"ClavulanicAcid(125mg)\"])"
   ]
  },
  {
   "cell_type": "code",
   "execution_count": 105,
   "id": "0e8316ef",
   "metadata": {},
   "outputs": [],
   "source": [
    "def recommend_medicine1(use_query):\n",
    "    recommendations = []\n",
    "\n",
    "    # Check for medicines that contain all specified compositions\n",
    "    for index, row in new_df.iterrows():\n",
    "        use = row['Uses']\n",
    "        if isinstance(use, list):\n",
    "            # Check if all composition items are present in the medicine\n",
    "            if all(query.lower() in ' '.join(use).lower() for query in use_query):\n",
    "                recommendations.append([row['Name'],  row['Score']])\n",
    "\n",
    "   \n",
    "\n",
    "    if recommendations:\n",
    "        # Remove duplicates and return the recommendations\n",
    "        medicine_list = sorted(recommendations, reverse = True, key = lambda x:x[1])[:50]\n",
    "        seen = set()\n",
    "        recommended_medicines = [x for x in medicine_list if tuple(x) not in seen and not seen.add(tuple(x))]\n",
    "        return recommended_medicines\n",
    "    else:\n",
    "        return \"No medicines found for this disease.\""
   ]
  },
  {
   "cell_type": "code",
   "execution_count": 106,
   "id": "d296d726",
   "metadata": {},
   "outputs": [
    {
     "data": {
      "text/plain": [
       "[['Azep Nasal Spray', 5.0],\n",
       " ['Alz Plus  Tablet', 5.0],\n",
       " ['Exocast Tablet', 5.0],\n",
       " ['Emimont 5mg/10mg Tablet', 5.0],\n",
       " ['Fexolife M 10 mg/120 mg Tablet', 5.0],\n",
       " ['Levocet M Syrup', 5.0],\n",
       " ['Montas-L', 5.0],\n",
       " ['Momefit Nasal Spray', 5.0],\n",
       " ['Momenta 50mcg Nasal Spray', 5.0],\n",
       " ['Montark-L Tablet', 5.0],\n",
       " ['Orpa Nasal Spray', 5.0],\n",
       " ['Romilast L 5 Tablet', 5.0],\n",
       " ['Romilast L Syrup', 5.0],\n",
       " ['Recofast LM Tablet', 5.0],\n",
       " ['Zeemont 5mg/10mg Tablet', 5.0],\n",
       " ['Ancer LM Syrup', 4.66],\n",
       " ['Ebmont FX 10mg/120mg Tablet', 4.66],\n",
       " ['Romilast 5mg Tablet MD', 4.66],\n",
       " ['Alday Duo 5mg/10mg Tablet', 4.56],\n",
       " ['Pilot M 10mg/120mg Tablet', 4.56],\n",
       " ['Respizen Nasal Spray', 4.56],\n",
       " ['Levocet M Kid Tablet MD', 4.5],\n",
       " ['Lekast Tablet', 4.5],\n",
       " ['Alorti-M Tablet', 4.34],\n",
       " ['Afineday Tablet', 4.34],\n",
       " ['Admont-LC Tablet', 4.34],\n",
       " ['Airkast-FX Tablet', 4.34],\n",
       " ['Ebonte-M Tablet', 4.34],\n",
       " ['L-Hist Mont Syrup', 4.34],\n",
       " ['Lit M Tablet', 4.34],\n",
       " ['Levokon-M Tablet', 4.34],\n",
       " ['Levotiz-M Tablet', 4.34],\n",
       " ['LCZ-Mont Suspension', 4.34],\n",
       " ['Makair Tablet', 4.34],\n",
       " ['Monteshine F 10mg/120mg Tablet', 4.34],\n",
       " ['Monti-DL Tablet', 4.34],\n",
       " ['Minolast Kid 2.5mg/4mg Tablet', 4.34],\n",
       " ['Nazomac-M Nasal Spray', 4.34],\n",
       " ['Oriel-M Tablet', 4.34],\n",
       " ['Ryno Nasal Spray', 4.34],\n",
       " ['Smarti-M Tablet', 4.34],\n",
       " ['Sino Nasal Spray', 4.34],\n",
       " ['Telekast-L Kid Tablet', 4.34],\n",
       " ['Telekast 4 Chewable Tablet', 4.34],\n",
       " ['Uniair FX Tablet', 4.34],\n",
       " ['Vitaresp FX 30 Oral Suspension Mango', 4.34],\n",
       " ['X-Mont LC Tablet', 4.34],\n",
       " ['Zelgra 180 Tablet', 4.34],\n",
       " ['Emlukast-FX Tablet', 4.2],\n",
       " ['Levosiz-M Tablet', 4.18]]"
      ]
     },
     "execution_count": 106,
     "metadata": {},
     "output_type": "execute_result"
    }
   ],
   "source": [
    "recommend_medicine1(['Sneezing'])"
   ]
  },
  {
   "cell_type": "code",
   "execution_count": null,
   "id": "bfec1893",
   "metadata": {},
   "outputs": [],
   "source": []
  }
 ],
 "metadata": {
  "kernelspec": {
   "display_name": "Python 3 (ipykernel)",
   "language": "python",
   "name": "python3"
  },
  "language_info": {
   "codemirror_mode": {
    "name": "ipython",
    "version": 3
   },
   "file_extension": ".py",
   "mimetype": "text/x-python",
   "name": "python",
   "nbconvert_exporter": "python",
   "pygments_lexer": "ipython3",
   "version": "3.9.13"
  }
 },
 "nbformat": 4,
 "nbformat_minor": 5
}
